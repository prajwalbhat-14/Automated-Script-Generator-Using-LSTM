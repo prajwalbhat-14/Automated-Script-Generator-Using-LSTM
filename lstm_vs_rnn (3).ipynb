{
  "nbformat": 4,
  "nbformat_minor": 0,
  "metadata": {
    "colab": {
      "provenance": []
    },
    "kernelspec": {
      "name": "python3",
      "display_name": "Python 3"
    },
    "language_info": {
      "name": "python"
    }
  },
  "cells": [
    {
      "cell_type": "code",
      "execution_count": null,
      "metadata": {
        "colab": {
          "base_uri": "https://localhost:8080/"
        },
        "id": "Zo89FlcAec56",
        "outputId": "275b3ccc-6f1b-4cdf-ea91-120ed3f17abb"
      },
      "outputs": [
        {
          "output_type": "stream",
          "name": "stdout",
          "text": [
            "Requirement already satisfied: numpy in /usr/local/lib/python3.10/dist-packages (1.26.4)\n",
            "Requirement already satisfied: pandas in /usr/local/lib/python3.10/dist-packages (2.2.2)\n",
            "Requirement already satisfied: tensorflow in /usr/local/lib/python3.10/dist-packages (2.17.0)\n",
            "Requirement already satisfied: keras in /usr/local/lib/python3.10/dist-packages (3.4.1)\n",
            "Requirement already satisfied: python-dateutil>=2.8.2 in /usr/local/lib/python3.10/dist-packages (from pandas) (2.8.2)\n",
            "Requirement already satisfied: pytz>=2020.1 in /usr/local/lib/python3.10/dist-packages (from pandas) (2024.2)\n",
            "Requirement already satisfied: tzdata>=2022.7 in /usr/local/lib/python3.10/dist-packages (from pandas) (2024.2)\n",
            "Requirement already satisfied: absl-py>=1.0.0 in /usr/local/lib/python3.10/dist-packages (from tensorflow) (1.4.0)\n",
            "Requirement already satisfied: astunparse>=1.6.0 in /usr/local/lib/python3.10/dist-packages (from tensorflow) (1.6.3)\n",
            "Requirement already satisfied: flatbuffers>=24.3.25 in /usr/local/lib/python3.10/dist-packages (from tensorflow) (24.3.25)\n",
            "Requirement already satisfied: gast!=0.5.0,!=0.5.1,!=0.5.2,>=0.2.1 in /usr/local/lib/python3.10/dist-packages (from tensorflow) (0.6.0)\n",
            "Requirement already satisfied: google-pasta>=0.1.1 in /usr/local/lib/python3.10/dist-packages (from tensorflow) (0.2.0)\n",
            "Requirement already satisfied: h5py>=3.10.0 in /usr/local/lib/python3.10/dist-packages (from tensorflow) (3.12.1)\n",
            "Requirement already satisfied: libclang>=13.0.0 in /usr/local/lib/python3.10/dist-packages (from tensorflow) (18.1.1)\n",
            "Requirement already satisfied: ml-dtypes<0.5.0,>=0.3.1 in /usr/local/lib/python3.10/dist-packages (from tensorflow) (0.4.1)\n",
            "Requirement already satisfied: opt-einsum>=2.3.2 in /usr/local/lib/python3.10/dist-packages (from tensorflow) (3.4.0)\n",
            "Requirement already satisfied: packaging in /usr/local/lib/python3.10/dist-packages (from tensorflow) (24.1)\n",
            "Requirement already satisfied: protobuf!=4.21.0,!=4.21.1,!=4.21.2,!=4.21.3,!=4.21.4,!=4.21.5,<5.0.0dev,>=3.20.3 in /usr/local/lib/python3.10/dist-packages (from tensorflow) (3.20.3)\n",
            "Requirement already satisfied: requests<3,>=2.21.0 in /usr/local/lib/python3.10/dist-packages (from tensorflow) (2.32.3)\n",
            "Requirement already satisfied: setuptools in /usr/local/lib/python3.10/dist-packages (from tensorflow) (75.1.0)\n",
            "Requirement already satisfied: six>=1.12.0 in /usr/local/lib/python3.10/dist-packages (from tensorflow) (1.16.0)\n",
            "Requirement already satisfied: termcolor>=1.1.0 in /usr/local/lib/python3.10/dist-packages (from tensorflow) (2.5.0)\n",
            "Requirement already satisfied: typing-extensions>=3.6.6 in /usr/local/lib/python3.10/dist-packages (from tensorflow) (4.12.2)\n",
            "Requirement already satisfied: wrapt>=1.11.0 in /usr/local/lib/python3.10/dist-packages (from tensorflow) (1.16.0)\n",
            "Requirement already satisfied: grpcio<2.0,>=1.24.3 in /usr/local/lib/python3.10/dist-packages (from tensorflow) (1.64.1)\n",
            "Requirement already satisfied: tensorboard<2.18,>=2.17 in /usr/local/lib/python3.10/dist-packages (from tensorflow) (2.17.0)\n",
            "Requirement already satisfied: tensorflow-io-gcs-filesystem>=0.23.1 in /usr/local/lib/python3.10/dist-packages (from tensorflow) (0.37.1)\n",
            "Requirement already satisfied: rich in /usr/local/lib/python3.10/dist-packages (from keras) (13.9.3)\n",
            "Requirement already satisfied: namex in /usr/local/lib/python3.10/dist-packages (from keras) (0.0.8)\n",
            "Requirement already satisfied: optree in /usr/local/lib/python3.10/dist-packages (from keras) (0.13.0)\n",
            "Requirement already satisfied: wheel<1.0,>=0.23.0 in /usr/local/lib/python3.10/dist-packages (from astunparse>=1.6.0->tensorflow) (0.44.0)\n",
            "Requirement already satisfied: charset-normalizer<4,>=2 in /usr/local/lib/python3.10/dist-packages (from requests<3,>=2.21.0->tensorflow) (3.4.0)\n",
            "Requirement already satisfied: idna<4,>=2.5 in /usr/local/lib/python3.10/dist-packages (from requests<3,>=2.21.0->tensorflow) (3.10)\n",
            "Requirement already satisfied: urllib3<3,>=1.21.1 in /usr/local/lib/python3.10/dist-packages (from requests<3,>=2.21.0->tensorflow) (2.2.3)\n",
            "Requirement already satisfied: certifi>=2017.4.17 in /usr/local/lib/python3.10/dist-packages (from requests<3,>=2.21.0->tensorflow) (2024.8.30)\n",
            "Requirement already satisfied: markdown>=2.6.8 in /usr/local/lib/python3.10/dist-packages (from tensorboard<2.18,>=2.17->tensorflow) (3.7)\n",
            "Requirement already satisfied: tensorboard-data-server<0.8.0,>=0.7.0 in /usr/local/lib/python3.10/dist-packages (from tensorboard<2.18,>=2.17->tensorflow) (0.7.2)\n",
            "Requirement already satisfied: werkzeug>=1.0.1 in /usr/local/lib/python3.10/dist-packages (from tensorboard<2.18,>=2.17->tensorflow) (3.0.6)\n",
            "Requirement already satisfied: markdown-it-py>=2.2.0 in /usr/local/lib/python3.10/dist-packages (from rich->keras) (3.0.0)\n",
            "Requirement already satisfied: pygments<3.0.0,>=2.13.0 in /usr/local/lib/python3.10/dist-packages (from rich->keras) (2.18.0)\n",
            "Requirement already satisfied: mdurl~=0.1 in /usr/local/lib/python3.10/dist-packages (from markdown-it-py>=2.2.0->rich->keras) (0.1.2)\n",
            "Requirement already satisfied: MarkupSafe>=2.1.1 in /usr/local/lib/python3.10/dist-packages (from werkzeug>=1.0.1->tensorboard<2.18,>=2.17->tensorflow) (3.0.2)\n",
            "Requirement already satisfied: tensorflow in /usr/local/lib/python3.10/dist-packages (2.17.0)\n",
            "Requirement already satisfied: keras-preprocessing in /usr/local/lib/python3.10/dist-packages (1.1.2)\n",
            "Requirement already satisfied: absl-py>=1.0.0 in /usr/local/lib/python3.10/dist-packages (from tensorflow) (1.4.0)\n",
            "Requirement already satisfied: astunparse>=1.6.0 in /usr/local/lib/python3.10/dist-packages (from tensorflow) (1.6.3)\n",
            "Requirement already satisfied: flatbuffers>=24.3.25 in /usr/local/lib/python3.10/dist-packages (from tensorflow) (24.3.25)\n",
            "Requirement already satisfied: gast!=0.5.0,!=0.5.1,!=0.5.2,>=0.2.1 in /usr/local/lib/python3.10/dist-packages (from tensorflow) (0.6.0)\n",
            "Requirement already satisfied: google-pasta>=0.1.1 in /usr/local/lib/python3.10/dist-packages (from tensorflow) (0.2.0)\n",
            "Requirement already satisfied: h5py>=3.10.0 in /usr/local/lib/python3.10/dist-packages (from tensorflow) (3.12.1)\n",
            "Requirement already satisfied: libclang>=13.0.0 in /usr/local/lib/python3.10/dist-packages (from tensorflow) (18.1.1)\n",
            "Requirement already satisfied: ml-dtypes<0.5.0,>=0.3.1 in /usr/local/lib/python3.10/dist-packages (from tensorflow) (0.4.1)\n",
            "Requirement already satisfied: opt-einsum>=2.3.2 in /usr/local/lib/python3.10/dist-packages (from tensorflow) (3.4.0)\n",
            "Requirement already satisfied: packaging in /usr/local/lib/python3.10/dist-packages (from tensorflow) (24.1)\n",
            "Requirement already satisfied: protobuf!=4.21.0,!=4.21.1,!=4.21.2,!=4.21.3,!=4.21.4,!=4.21.5,<5.0.0dev,>=3.20.3 in /usr/local/lib/python3.10/dist-packages (from tensorflow) (3.20.3)\n",
            "Requirement already satisfied: requests<3,>=2.21.0 in /usr/local/lib/python3.10/dist-packages (from tensorflow) (2.32.3)\n",
            "Requirement already satisfied: setuptools in /usr/local/lib/python3.10/dist-packages (from tensorflow) (75.1.0)\n",
            "Requirement already satisfied: six>=1.12.0 in /usr/local/lib/python3.10/dist-packages (from tensorflow) (1.16.0)\n",
            "Requirement already satisfied: termcolor>=1.1.0 in /usr/local/lib/python3.10/dist-packages (from tensorflow) (2.5.0)\n",
            "Requirement already satisfied: typing-extensions>=3.6.6 in /usr/local/lib/python3.10/dist-packages (from tensorflow) (4.12.2)\n",
            "Requirement already satisfied: wrapt>=1.11.0 in /usr/local/lib/python3.10/dist-packages (from tensorflow) (1.16.0)\n",
            "Requirement already satisfied: grpcio<2.0,>=1.24.3 in /usr/local/lib/python3.10/dist-packages (from tensorflow) (1.64.1)\n",
            "Requirement already satisfied: tensorboard<2.18,>=2.17 in /usr/local/lib/python3.10/dist-packages (from tensorflow) (2.17.0)\n",
            "Requirement already satisfied: keras>=3.2.0 in /usr/local/lib/python3.10/dist-packages (from tensorflow) (3.4.1)\n",
            "Requirement already satisfied: tensorflow-io-gcs-filesystem>=0.23.1 in /usr/local/lib/python3.10/dist-packages (from tensorflow) (0.37.1)\n",
            "Requirement already satisfied: numpy<2.0.0,>=1.23.5 in /usr/local/lib/python3.10/dist-packages (from tensorflow) (1.26.4)\n",
            "Requirement already satisfied: wheel<1.0,>=0.23.0 in /usr/local/lib/python3.10/dist-packages (from astunparse>=1.6.0->tensorflow) (0.44.0)\n",
            "Requirement already satisfied: rich in /usr/local/lib/python3.10/dist-packages (from keras>=3.2.0->tensorflow) (13.9.3)\n",
            "Requirement already satisfied: namex in /usr/local/lib/python3.10/dist-packages (from keras>=3.2.0->tensorflow) (0.0.8)\n",
            "Requirement already satisfied: optree in /usr/local/lib/python3.10/dist-packages (from keras>=3.2.0->tensorflow) (0.13.0)\n",
            "Requirement already satisfied: charset-normalizer<4,>=2 in /usr/local/lib/python3.10/dist-packages (from requests<3,>=2.21.0->tensorflow) (3.4.0)\n",
            "Requirement already satisfied: idna<4,>=2.5 in /usr/local/lib/python3.10/dist-packages (from requests<3,>=2.21.0->tensorflow) (3.10)\n",
            "Requirement already satisfied: urllib3<3,>=1.21.1 in /usr/local/lib/python3.10/dist-packages (from requests<3,>=2.21.0->tensorflow) (2.2.3)\n",
            "Requirement already satisfied: certifi>=2017.4.17 in /usr/local/lib/python3.10/dist-packages (from requests<3,>=2.21.0->tensorflow) (2024.8.30)\n",
            "Requirement already satisfied: markdown>=2.6.8 in /usr/local/lib/python3.10/dist-packages (from tensorboard<2.18,>=2.17->tensorflow) (3.7)\n",
            "Requirement already satisfied: tensorboard-data-server<0.8.0,>=0.7.0 in /usr/local/lib/python3.10/dist-packages (from tensorboard<2.18,>=2.17->tensorflow) (0.7.2)\n",
            "Requirement already satisfied: werkzeug>=1.0.1 in /usr/local/lib/python3.10/dist-packages (from tensorboard<2.18,>=2.17->tensorflow) (3.0.6)\n",
            "Requirement already satisfied: MarkupSafe>=2.1.1 in /usr/local/lib/python3.10/dist-packages (from werkzeug>=1.0.1->tensorboard<2.18,>=2.17->tensorflow) (3.0.2)\n",
            "Requirement already satisfied: markdown-it-py>=2.2.0 in /usr/local/lib/python3.10/dist-packages (from rich->keras>=3.2.0->tensorflow) (3.0.0)\n",
            "Requirement already satisfied: pygments<3.0.0,>=2.13.0 in /usr/local/lib/python3.10/dist-packages (from rich->keras>=3.2.0->tensorflow) (2.18.0)\n",
            "Requirement already satisfied: mdurl~=0.1 in /usr/local/lib/python3.10/dist-packages (from markdown-it-py>=2.2.0->rich->keras>=3.2.0->tensorflow) (0.1.2)\n"
          ]
        }
      ],
      "source": [
        "  !pip install numpy pandas tensorflow keras\n",
        "!pip install tensorflow keras-preprocessing\n"
      ]
    },
    {
      "cell_type": "code",
      "source": [
        "import tensorflow as tf\n",
        "from tensorflow.keras.preprocessing.text import Tokenizer\n",
        "from tensorflow.keras.preprocessing.sequence import pad_sequences\n",
        "from tensorflow.keras.utils import to_categorical\n",
        "import numpy as np\n",
        "import pandas as pd\n",
        "from sklearn.model_selection import train_test_split\n",
        "\n",
        "# List of file paths\n",
        "file_paths = ['/content/file_938.txt']\n",
        "\n",
        "# Initialize an empty list to store data from all files\n",
        "data = []\n",
        "\n",
        "# Iterate through each file path\n",
        "for file_path in file_paths:\n",
        "    # Open each file individually and read its content\n",
        "    with open(file_path, 'r', encoding='utf-8') as file:\n",
        "        data.extend(file.readlines()) # Extend data list with lines from current file\n",
        "\n",
        "# Clean and preprocess the data\n",
        "data = [line.strip() for line in data if line.strip()]  # Remove empty lines and extra spaces\n",
        "\n",
        "# Combine all dialogues into a single string\n",
        "all_text = ' '.join(data)\n",
        "\n",
        "# Tokenize the text\n",
        "tokenizer = Tokenizer()\n",
        "tokenizer.fit_on_texts([all_text])\n",
        "total_words = len(tokenizer.word_index) + 1\n",
        "\n",
        "# Convert text to sequences of words\n",
        "input_sequences = []\n",
        "for line in data:\n",
        "    token_list = tokenizer.texts_to_sequences([line])[0]\n",
        "    for i in range(1, len(token_list)):\n",
        "        n_gram_sequence = token_list[:i+1]\n",
        "        input_sequences.append(n_gram_sequence)\n",
        "\n",
        "# Pad sequences\n",
        "max_sequence_len = max([len(x) for x in input_sequences])\n",
        "input_sequences = pad_sequences(input_sequences, maxlen=max_sequence_len, padding='pre')\n",
        "\n",
        "# Split into input (X) and label (y)\n",
        "X = input_sequences[:, :-1]\n",
        "y = input_sequences[:, -1]\n",
        "y = to_categorical(y, num_classes=total_words)\n",
        "\n",
        "# Split into training and validation sets\n",
        "X_train, X_val, y_train, y_val = train_test_split(X, y, test_size=0.2, random_state=42)"
      ],
      "metadata": {
        "id": "IBVUa72JerIv"
      },
      "execution_count": null,
      "outputs": []
    },
    {
      "cell_type": "code",
      "source": [
        "from keras.models import Sequential\n",
        "from keras.layers import Embedding, LSTM, Dense, Dropout\n",
        "\n",
        "# Define the model\n",
        "model = Sequential()\n",
        "model.add(Embedding(total_words, 100, input_length=max_sequence_len-1))\n",
        "model.add(LSTM(250, return_sequences=True))\n",
        "model.add(Dropout(0.2))\n",
        "model.add(LSTM(250))\n",
        "model.add(Dense(total_words, activation='softmax'))\n",
        "\n",
        "# Compile the model\n",
        "model.compile(loss='categorical_crossentropy', optimizer='adam', metrics=['accuracy'])\n",
        "\n",
        "# Train the model\n",
        "history = model.fit(X_train, y_train, epochs=50, validation_data=(X_val, y_val), verbose=1)\n"
      ],
      "metadata": {
        "colab": {
          "base_uri": "https://localhost:8080/"
        },
        "id": "S3yN4h_g2k8U",
        "outputId": "eb0de92b-ee6f-4ccb-c389-95f40a464dca"
      },
      "execution_count": null,
      "outputs": [
        {
          "output_type": "stream",
          "name": "stdout",
          "text": [
            "Epoch 1/50\n",
            "\u001b[1m244/244\u001b[0m \u001b[32m━━━━━━━━━━━━━━━━━━━━\u001b[0m\u001b[37m\u001b[0m \u001b[1m45s\u001b[0m 169ms/step - accuracy: 0.0247 - loss: 6.6861 - val_accuracy: 0.0329 - val_loss: 6.3846\n",
            "Epoch 2/50\n",
            "\u001b[1m244/244\u001b[0m \u001b[32m━━━━━━━━━━━━━━━━━━━━\u001b[0m\u001b[37m\u001b[0m \u001b[1m36s\u001b[0m 149ms/step - accuracy: 0.0318 - loss: 6.0656 - val_accuracy: 0.0380 - val_loss: 6.3922\n",
            "Epoch 3/50\n",
            "\u001b[1m244/244\u001b[0m \u001b[32m━━━━━━━━━━━━━━━━━━━━\u001b[0m\u001b[37m\u001b[0m \u001b[1m42s\u001b[0m 151ms/step - accuracy: 0.0388 - loss: 5.9664 - val_accuracy: 0.0400 - val_loss: 6.4135\n",
            "Epoch 4/50\n",
            "\u001b[1m244/244\u001b[0m \u001b[32m━━━━━━━━━━━━━━━━━━━━\u001b[0m\u001b[37m\u001b[0m \u001b[1m36s\u001b[0m 148ms/step - accuracy: 0.0408 - loss: 5.8619 - val_accuracy: 0.0421 - val_loss: 6.4302\n",
            "Epoch 5/50\n",
            "\u001b[1m244/244\u001b[0m \u001b[32m━━━━━━━━━━━━━━━━━━━━\u001b[0m\u001b[37m\u001b[0m \u001b[1m38s\u001b[0m 158ms/step - accuracy: 0.0481 - loss: 5.6959 - val_accuracy: 0.0441 - val_loss: 6.3709\n",
            "Epoch 6/50\n",
            "\u001b[1m244/244\u001b[0m \u001b[32m━━━━━━━━━━━━━━━━━━━━\u001b[0m\u001b[37m\u001b[0m \u001b[1m41s\u001b[0m 157ms/step - accuracy: 0.0527 - loss: 5.5590 - val_accuracy: 0.0524 - val_loss: 6.2994\n",
            "Epoch 7/50\n",
            "\u001b[1m244/244\u001b[0m \u001b[32m━━━━━━━━━━━━━━━━━━━━\u001b[0m\u001b[37m\u001b[0m \u001b[1m39s\u001b[0m 151ms/step - accuracy: 0.0620 - loss: 5.4409 - val_accuracy: 0.0601 - val_loss: 6.3278\n",
            "Epoch 8/50\n",
            "\u001b[1m244/244\u001b[0m \u001b[32m━━━━━━━━━━━━━━━━━━━━\u001b[0m\u001b[37m\u001b[0m \u001b[1m37s\u001b[0m 151ms/step - accuracy: 0.0702 - loss: 5.2575 - val_accuracy: 0.0590 - val_loss: 6.3615\n",
            "Epoch 9/50\n",
            "\u001b[1m244/244\u001b[0m \u001b[32m━━━━━━━━━━━━━━━━━━━━\u001b[0m\u001b[37m\u001b[0m \u001b[1m38s\u001b[0m 155ms/step - accuracy: 0.0816 - loss: 5.1006 - val_accuracy: 0.0606 - val_loss: 6.4302\n",
            "Epoch 10/50\n",
            "\u001b[1m244/244\u001b[0m \u001b[32m━━━━━━━━━━━━━━━━━━━━\u001b[0m\u001b[37m\u001b[0m \u001b[1m41s\u001b[0m 155ms/step - accuracy: 0.0921 - loss: 4.9087 - val_accuracy: 0.0637 - val_loss: 6.4307\n",
            "Epoch 11/50\n",
            "\u001b[1m244/244\u001b[0m \u001b[32m━━━━━━━━━━━━━━━━━━━━\u001b[0m\u001b[37m\u001b[0m \u001b[1m40s\u001b[0m 150ms/step - accuracy: 0.1039 - loss: 4.8072 - val_accuracy: 0.0698 - val_loss: 6.4750\n",
            "Epoch 12/50\n",
            "\u001b[1m244/244\u001b[0m \u001b[32m━━━━━━━━━━━━━━━━━━━━\u001b[0m\u001b[37m\u001b[0m \u001b[1m37s\u001b[0m 150ms/step - accuracy: 0.1103 - loss: 4.6691 - val_accuracy: 0.0719 - val_loss: 6.5717\n",
            "Epoch 13/50\n",
            "\u001b[1m244/244\u001b[0m \u001b[32m━━━━━━━━━━━━━━━━━━━━\u001b[0m\u001b[37m\u001b[0m \u001b[1m41s\u001b[0m 152ms/step - accuracy: 0.1248 - loss: 4.4916 - val_accuracy: 0.0837 - val_loss: 6.5756\n",
            "Epoch 14/50\n",
            "\u001b[1m244/244\u001b[0m \u001b[32m━━━━━━━━━━━━━━━━━━━━\u001b[0m\u001b[37m\u001b[0m \u001b[1m41s\u001b[0m 155ms/step - accuracy: 0.1308 - loss: 4.3975 - val_accuracy: 0.0832 - val_loss: 6.6636\n",
            "Epoch 15/50\n",
            "\u001b[1m244/244\u001b[0m \u001b[32m━━━━━━━━━━━━━━━━━━━━\u001b[0m\u001b[37m\u001b[0m \u001b[1m38s\u001b[0m 155ms/step - accuracy: 0.1531 - loss: 4.2061 - val_accuracy: 0.0878 - val_loss: 6.7223\n",
            "Epoch 16/50\n",
            "\u001b[1m244/244\u001b[0m \u001b[32m━━━━━━━━━━━━━━━━━━━━\u001b[0m\u001b[37m\u001b[0m \u001b[1m40s\u001b[0m 151ms/step - accuracy: 0.1671 - loss: 4.0902 - val_accuracy: 0.0888 - val_loss: 6.7839\n",
            "Epoch 17/50\n",
            "\u001b[1m244/244\u001b[0m \u001b[32m━━━━━━━━━━━━━━━━━━━━\u001b[0m\u001b[37m\u001b[0m \u001b[1m36s\u001b[0m 148ms/step - accuracy: 0.1823 - loss: 3.9722 - val_accuracy: 0.0934 - val_loss: 6.8667\n",
            "Epoch 18/50\n",
            "\u001b[1m244/244\u001b[0m \u001b[32m━━━━━━━━━━━━━━━━━━━━\u001b[0m\u001b[37m\u001b[0m \u001b[1m41s\u001b[0m 149ms/step - accuracy: 0.2058 - loss: 3.7774 - val_accuracy: 0.0857 - val_loss: 6.9240\n",
            "Epoch 19/50\n",
            "\u001b[1m244/244\u001b[0m \u001b[32m━━━━━━━━━━━━━━━━━━━━\u001b[0m\u001b[37m\u001b[0m \u001b[1m41s\u001b[0m 148ms/step - accuracy: 0.2287 - loss: 3.6256 - val_accuracy: 0.0909 - val_loss: 6.9585\n",
            "Epoch 20/50\n",
            "\u001b[1m244/244\u001b[0m \u001b[32m━━━━━━━━━━━━━━━━━━━━\u001b[0m\u001b[37m\u001b[0m \u001b[1m38s\u001b[0m 155ms/step - accuracy: 0.2557 - loss: 3.4826 - val_accuracy: 0.1006 - val_loss: 7.0780\n",
            "Epoch 21/50\n",
            "\u001b[1m244/244\u001b[0m \u001b[32m━━━━━━━━━━━━━━━━━━━━\u001b[0m\u001b[37m\u001b[0m \u001b[1m41s\u001b[0m 154ms/step - accuracy: 0.2799 - loss: 3.3593 - val_accuracy: 0.1063 - val_loss: 7.1343\n",
            "Epoch 22/50\n",
            "\u001b[1m244/244\u001b[0m \u001b[32m━━━━━━━━━━━━━━━━━━━━\u001b[0m\u001b[37m\u001b[0m \u001b[1m41s\u001b[0m 156ms/step - accuracy: 0.3032 - loss: 3.2097 - val_accuracy: 0.1042 - val_loss: 7.2245\n",
            "Epoch 23/50\n",
            "\u001b[1m244/244\u001b[0m \u001b[32m━━━━━━━━━━━━━━━━━━━━\u001b[0m\u001b[37m\u001b[0m \u001b[1m41s\u001b[0m 154ms/step - accuracy: 0.3326 - loss: 3.0840 - val_accuracy: 0.1093 - val_loss: 7.3134\n",
            "Epoch 24/50\n",
            "\u001b[1m244/244\u001b[0m \u001b[32m━━━━━━━━━━━━━━━━━━━━\u001b[0m\u001b[37m\u001b[0m \u001b[1m41s\u001b[0m 153ms/step - accuracy: 0.3469 - loss: 2.9708 - val_accuracy: 0.1088 - val_loss: 7.3917\n",
            "Epoch 25/50\n",
            "\u001b[1m244/244\u001b[0m \u001b[32m━━━━━━━━━━━━━━━━━━━━\u001b[0m\u001b[37m\u001b[0m \u001b[1m43s\u001b[0m 160ms/step - accuracy: 0.3789 - loss: 2.8204 - val_accuracy: 0.1099 - val_loss: 7.4653\n",
            "Epoch 26/50\n",
            "\u001b[1m244/244\u001b[0m \u001b[32m━━━━━━━━━━━━━━━━━━━━\u001b[0m\u001b[37m\u001b[0m \u001b[1m36s\u001b[0m 149ms/step - accuracy: 0.4102 - loss: 2.6959 - val_accuracy: 0.1119 - val_loss: 7.5587\n",
            "Epoch 27/50\n",
            "\u001b[1m244/244\u001b[0m \u001b[32m━━━━━━━━━━━━━━━━━━━━\u001b[0m\u001b[37m\u001b[0m \u001b[1m38s\u001b[0m 154ms/step - accuracy: 0.4340 - loss: 2.5850 - val_accuracy: 0.1211 - val_loss: 7.6236\n",
            "Epoch 28/50\n",
            "\u001b[1m244/244\u001b[0m \u001b[32m━━━━━━━━━━━━━━━━━━━━\u001b[0m\u001b[37m\u001b[0m \u001b[1m38s\u001b[0m 155ms/step - accuracy: 0.4678 - loss: 2.4188 - val_accuracy: 0.1114 - val_loss: 7.6981\n",
            "Epoch 29/50\n",
            "\u001b[1m244/244\u001b[0m \u001b[32m━━━━━━━━━━━━━━━━━━━━\u001b[0m\u001b[37m\u001b[0m \u001b[1m36s\u001b[0m 147ms/step - accuracy: 0.4838 - loss: 2.3497 - val_accuracy: 0.1134 - val_loss: 7.8548\n",
            "Epoch 30/50\n",
            "\u001b[1m244/244\u001b[0m \u001b[32m━━━━━━━━━━━━━━━━━━━━\u001b[0m\u001b[37m\u001b[0m \u001b[1m37s\u001b[0m 152ms/step - accuracy: 0.5045 - loss: 2.2423 - val_accuracy: 0.1160 - val_loss: 7.9303\n",
            "Epoch 31/50\n",
            "\u001b[1m244/244\u001b[0m \u001b[32m━━━━━━━━━━━━━━━━━━━━\u001b[0m\u001b[37m\u001b[0m \u001b[1m41s\u001b[0m 152ms/step - accuracy: 0.5447 - loss: 2.1232 - val_accuracy: 0.1196 - val_loss: 7.9864\n",
            "Epoch 32/50\n",
            "\u001b[1m244/244\u001b[0m \u001b[32m━━━━━━━━━━━━━━━━━━━━\u001b[0m\u001b[37m\u001b[0m \u001b[1m42s\u001b[0m 156ms/step - accuracy: 0.5559 - loss: 2.0323 - val_accuracy: 0.1201 - val_loss: 8.0862\n",
            "Epoch 33/50\n",
            "\u001b[1m244/244\u001b[0m \u001b[32m━━━━━━━━━━━━━━━━━━━━\u001b[0m\u001b[37m\u001b[0m \u001b[1m40s\u001b[0m 154ms/step - accuracy: 0.5849 - loss: 1.9514 - val_accuracy: 0.1160 - val_loss: 8.2056\n",
            "Epoch 34/50\n",
            "\u001b[1m244/244\u001b[0m \u001b[32m━━━━━━━━━━━━━━━━━━━━\u001b[0m\u001b[37m\u001b[0m \u001b[1m40s\u001b[0m 151ms/step - accuracy: 0.5910 - loss: 1.8824 - val_accuracy: 0.1160 - val_loss: 8.2613\n",
            "Epoch 35/50\n",
            "\u001b[1m244/244\u001b[0m \u001b[32m━━━━━━━━━━━━━━━━━━━━\u001b[0m\u001b[37m\u001b[0m \u001b[1m43s\u001b[0m 158ms/step - accuracy: 0.6079 - loss: 1.8134 - val_accuracy: 0.1206 - val_loss: 8.3439\n",
            "Epoch 36/50\n",
            "\u001b[1m244/244\u001b[0m \u001b[32m━━━━━━━━━━━━━━━━━━━━\u001b[0m\u001b[37m\u001b[0m \u001b[1m39s\u001b[0m 149ms/step - accuracy: 0.6320 - loss: 1.7177 - val_accuracy: 0.1201 - val_loss: 8.4646\n",
            "Epoch 37/50\n",
            "\u001b[1m244/244\u001b[0m \u001b[32m━━━━━━━━━━━━━━━━━━━━\u001b[0m\u001b[37m\u001b[0m \u001b[1m41s\u001b[0m 151ms/step - accuracy: 0.6389 - loss: 1.6644 - val_accuracy: 0.1160 - val_loss: 8.5564\n",
            "Epoch 38/50\n",
            "\u001b[1m244/244\u001b[0m \u001b[32m━━━━━━━━━━━━━━━━━━━━\u001b[0m\u001b[37m\u001b[0m \u001b[1m42s\u001b[0m 154ms/step - accuracy: 0.6590 - loss: 1.5906 - val_accuracy: 0.1176 - val_loss: 8.5997\n",
            "Epoch 39/50\n",
            "\u001b[1m244/244\u001b[0m \u001b[32m━━━━━━━━━━━━━━━━━━━━\u001b[0m\u001b[37m\u001b[0m \u001b[1m36s\u001b[0m 149ms/step - accuracy: 0.6661 - loss: 1.5335 - val_accuracy: 0.1165 - val_loss: 8.6993\n",
            "Epoch 40/50\n",
            "\u001b[1m244/244\u001b[0m \u001b[32m━━━━━━━━━━━━━━━━━━━━\u001b[0m\u001b[37m\u001b[0m \u001b[1m42s\u001b[0m 154ms/step - accuracy: 0.6943 - loss: 1.4639 - val_accuracy: 0.1129 - val_loss: 8.7836\n",
            "Epoch 41/50\n",
            "\u001b[1m244/244\u001b[0m \u001b[32m━━━━━━━━━━━━━━━━━━━━\u001b[0m\u001b[37m\u001b[0m \u001b[1m41s\u001b[0m 153ms/step - accuracy: 0.7116 - loss: 1.3530 - val_accuracy: 0.1124 - val_loss: 8.8566\n",
            "Epoch 42/50\n",
            "\u001b[1m244/244\u001b[0m \u001b[32m━━━━━━━━━━━━━━━━━━━━\u001b[0m\u001b[37m\u001b[0m \u001b[1m40s\u001b[0m 149ms/step - accuracy: 0.7151 - loss: 1.3361 - val_accuracy: 0.1165 - val_loss: 8.9464\n",
            "Epoch 43/50\n",
            "\u001b[1m244/244\u001b[0m \u001b[32m━━━━━━━━━━━━━━━━━━━━\u001b[0m\u001b[37m\u001b[0m \u001b[1m38s\u001b[0m 156ms/step - accuracy: 0.7385 - loss: 1.2555 - val_accuracy: 0.1155 - val_loss: 9.0040\n",
            "Epoch 44/50\n",
            "\u001b[1m244/244\u001b[0m \u001b[32m━━━━━━━━━━━━━━━━━━━━\u001b[0m\u001b[37m\u001b[0m \u001b[1m37s\u001b[0m 153ms/step - accuracy: 0.7318 - loss: 1.2383 - val_accuracy: 0.1165 - val_loss: 9.1006\n",
            "Epoch 45/50\n",
            "\u001b[1m244/244\u001b[0m \u001b[32m━━━━━━━━━━━━━━━━━━━━\u001b[0m\u001b[37m\u001b[0m \u001b[1m42s\u001b[0m 158ms/step - accuracy: 0.7499 - loss: 1.2086 - val_accuracy: 0.1150 - val_loss: 9.1586\n",
            "Epoch 46/50\n",
            "\u001b[1m244/244\u001b[0m \u001b[32m━━━━━━━━━━━━━━━━━━━━\u001b[0m\u001b[37m\u001b[0m \u001b[1m39s\u001b[0m 151ms/step - accuracy: 0.7653 - loss: 1.1371 - val_accuracy: 0.1186 - val_loss: 9.2821\n",
            "Epoch 47/50\n",
            "\u001b[1m244/244\u001b[0m \u001b[32m━━━━━━━━━━━━━━━━━━━━\u001b[0m\u001b[37m\u001b[0m \u001b[1m41s\u001b[0m 151ms/step - accuracy: 0.7757 - loss: 1.0787 - val_accuracy: 0.1196 - val_loss: 9.3336\n",
            "Epoch 48/50\n",
            "\u001b[1m244/244\u001b[0m \u001b[32m━━━━━━━━━━━━━━━━━━━━\u001b[0m\u001b[37m\u001b[0m \u001b[1m41s\u001b[0m 149ms/step - accuracy: 0.7686 - loss: 1.0894 - val_accuracy: 0.1134 - val_loss: 9.4208\n",
            "Epoch 49/50\n",
            "\u001b[1m244/244\u001b[0m \u001b[32m━━━━━━━━━━━━━━━━━━━━\u001b[0m\u001b[37m\u001b[0m \u001b[1m41s\u001b[0m 151ms/step - accuracy: 0.7885 - loss: 1.0057 - val_accuracy: 0.1119 - val_loss: 9.4871\n",
            "Epoch 50/50\n",
            "\u001b[1m244/244\u001b[0m \u001b[32m━━━━━━━━━━━━━━━━━━━━\u001b[0m\u001b[37m\u001b[0m \u001b[1m37s\u001b[0m 149ms/step - accuracy: 0.8027 - loss: 0.9533 - val_accuracy: 0.1150 - val_loss: 9.5750\n"
          ]
        }
      ]
    },
    {
      "cell_type": "code",
      "source": [
        "model.summary()"
      ],
      "metadata": {
        "colab": {
          "base_uri": "https://localhost:8080/",
          "height": 305
        },
        "id": "cxGL_g8L4wrc",
        "outputId": "047e6407-3810-464c-d265-a7a286245964"
      },
      "execution_count": null,
      "outputs": [
        {
          "output_type": "display_data",
          "data": {
            "text/plain": [
              "\u001b[1mModel: \"sequential_15\"\u001b[0m\n"
            ],
            "text/html": [
              "<pre style=\"white-space:pre;overflow-x:auto;line-height:normal;font-family:Menlo,'DejaVu Sans Mono',consolas,'Courier New',monospace\"><span style=\"font-weight: bold\">Model: \"sequential_15\"</span>\n",
              "</pre>\n"
            ]
          },
          "metadata": {}
        },
        {
          "output_type": "display_data",
          "data": {
            "text/plain": [
              "┏━━━━━━━━━━━━━━━━━━━━━━━━━━━━━━━━━━━━━━┳━━━━━━━━━━━━━━━━━━━━━━━━━━━━━┳━━━━━━━━━━━━━━━━━┓\n",
              "┃\u001b[1m \u001b[0m\u001b[1mLayer (type)                        \u001b[0m\u001b[1m \u001b[0m┃\u001b[1m \u001b[0m\u001b[1mOutput Shape               \u001b[0m\u001b[1m \u001b[0m┃\u001b[1m \u001b[0m\u001b[1m        Param #\u001b[0m\u001b[1m \u001b[0m┃\n",
              "┡━━━━━━━━━━━━━━━━━━━━━━━━━━━━━━━━━━━━━━╇━━━━━━━━━━━━━━━━━━━━━━━━━━━━━╇━━━━━━━━━━━━━━━━━┩\n",
              "│ embedding_15 (\u001b[38;5;33mEmbedding\u001b[0m)             │ (\u001b[38;5;45mNone\u001b[0m, \u001b[38;5;34m20\u001b[0m, \u001b[38;5;34m100\u001b[0m)             │         \u001b[38;5;34m184,700\u001b[0m │\n",
              "├──────────────────────────────────────┼─────────────────────────────┼─────────────────┤\n",
              "│ lstm_14 (\u001b[38;5;33mLSTM\u001b[0m)                       │ (\u001b[38;5;45mNone\u001b[0m, \u001b[38;5;34m20\u001b[0m, \u001b[38;5;34m250\u001b[0m)             │         \u001b[38;5;34m351,000\u001b[0m │\n",
              "├──────────────────────────────────────┼─────────────────────────────┼─────────────────┤\n",
              "│ dropout_3 (\u001b[38;5;33mDropout\u001b[0m)                  │ (\u001b[38;5;45mNone\u001b[0m, \u001b[38;5;34m20\u001b[0m, \u001b[38;5;34m250\u001b[0m)             │               \u001b[38;5;34m0\u001b[0m │\n",
              "├──────────────────────────────────────┼─────────────────────────────┼─────────────────┤\n",
              "│ lstm_15 (\u001b[38;5;33mLSTM\u001b[0m)                       │ (\u001b[38;5;45mNone\u001b[0m, \u001b[38;5;34m250\u001b[0m)                 │         \u001b[38;5;34m501,000\u001b[0m │\n",
              "├──────────────────────────────────────┼─────────────────────────────┼─────────────────┤\n",
              "│ dense_15 (\u001b[38;5;33mDense\u001b[0m)                     │ (\u001b[38;5;45mNone\u001b[0m, \u001b[38;5;34m1847\u001b[0m)                │         \u001b[38;5;34m463,597\u001b[0m │\n",
              "└──────────────────────────────────────┴─────────────────────────────┴─────────────────┘\n"
            ],
            "text/html": [
              "<pre style=\"white-space:pre;overflow-x:auto;line-height:normal;font-family:Menlo,'DejaVu Sans Mono',consolas,'Courier New',monospace\">┏━━━━━━━━━━━━━━━━━━━━━━━━━━━━━━━━━━━━━━┳━━━━━━━━━━━━━━━━━━━━━━━━━━━━━┳━━━━━━━━━━━━━━━━━┓\n",
              "┃<span style=\"font-weight: bold\"> Layer (type)                         </span>┃<span style=\"font-weight: bold\"> Output Shape                </span>┃<span style=\"font-weight: bold\">         Param # </span>┃\n",
              "┡━━━━━━━━━━━━━━━━━━━━━━━━━━━━━━━━━━━━━━╇━━━━━━━━━━━━━━━━━━━━━━━━━━━━━╇━━━━━━━━━━━━━━━━━┩\n",
              "│ embedding_15 (<span style=\"color: #0087ff; text-decoration-color: #0087ff\">Embedding</span>)             │ (<span style=\"color: #00d7ff; text-decoration-color: #00d7ff\">None</span>, <span style=\"color: #00af00; text-decoration-color: #00af00\">20</span>, <span style=\"color: #00af00; text-decoration-color: #00af00\">100</span>)             │         <span style=\"color: #00af00; text-decoration-color: #00af00\">184,700</span> │\n",
              "├──────────────────────────────────────┼─────────────────────────────┼─────────────────┤\n",
              "│ lstm_14 (<span style=\"color: #0087ff; text-decoration-color: #0087ff\">LSTM</span>)                       │ (<span style=\"color: #00d7ff; text-decoration-color: #00d7ff\">None</span>, <span style=\"color: #00af00; text-decoration-color: #00af00\">20</span>, <span style=\"color: #00af00; text-decoration-color: #00af00\">250</span>)             │         <span style=\"color: #00af00; text-decoration-color: #00af00\">351,000</span> │\n",
              "├──────────────────────────────────────┼─────────────────────────────┼─────────────────┤\n",
              "│ dropout_3 (<span style=\"color: #0087ff; text-decoration-color: #0087ff\">Dropout</span>)                  │ (<span style=\"color: #00d7ff; text-decoration-color: #00d7ff\">None</span>, <span style=\"color: #00af00; text-decoration-color: #00af00\">20</span>, <span style=\"color: #00af00; text-decoration-color: #00af00\">250</span>)             │               <span style=\"color: #00af00; text-decoration-color: #00af00\">0</span> │\n",
              "├──────────────────────────────────────┼─────────────────────────────┼─────────────────┤\n",
              "│ lstm_15 (<span style=\"color: #0087ff; text-decoration-color: #0087ff\">LSTM</span>)                       │ (<span style=\"color: #00d7ff; text-decoration-color: #00d7ff\">None</span>, <span style=\"color: #00af00; text-decoration-color: #00af00\">250</span>)                 │         <span style=\"color: #00af00; text-decoration-color: #00af00\">501,000</span> │\n",
              "├──────────────────────────────────────┼─────────────────────────────┼─────────────────┤\n",
              "│ dense_15 (<span style=\"color: #0087ff; text-decoration-color: #0087ff\">Dense</span>)                     │ (<span style=\"color: #00d7ff; text-decoration-color: #00d7ff\">None</span>, <span style=\"color: #00af00; text-decoration-color: #00af00\">1847</span>)                │         <span style=\"color: #00af00; text-decoration-color: #00af00\">463,597</span> │\n",
              "└──────────────────────────────────────┴─────────────────────────────┴─────────────────┘\n",
              "</pre>\n"
            ]
          },
          "metadata": {}
        },
        {
          "output_type": "display_data",
          "data": {
            "text/plain": [
              "\u001b[1m Total params: \u001b[0m\u001b[38;5;34m4,500,893\u001b[0m (17.17 MB)\n"
            ],
            "text/html": [
              "<pre style=\"white-space:pre;overflow-x:auto;line-height:normal;font-family:Menlo,'DejaVu Sans Mono',consolas,'Courier New',monospace\"><span style=\"font-weight: bold\"> Total params: </span><span style=\"color: #00af00; text-decoration-color: #00af00\">4,500,893</span> (17.17 MB)\n",
              "</pre>\n"
            ]
          },
          "metadata": {}
        },
        {
          "output_type": "display_data",
          "data": {
            "text/plain": [
              "\u001b[1m Trainable params: \u001b[0m\u001b[38;5;34m1,500,297\u001b[0m (5.72 MB)\n"
            ],
            "text/html": [
              "<pre style=\"white-space:pre;overflow-x:auto;line-height:normal;font-family:Menlo,'DejaVu Sans Mono',consolas,'Courier New',monospace\"><span style=\"font-weight: bold\"> Trainable params: </span><span style=\"color: #00af00; text-decoration-color: #00af00\">1,500,297</span> (5.72 MB)\n",
              "</pre>\n"
            ]
          },
          "metadata": {}
        },
        {
          "output_type": "display_data",
          "data": {
            "text/plain": [
              "\u001b[1m Non-trainable params: \u001b[0m\u001b[38;5;34m0\u001b[0m (0.00 B)\n"
            ],
            "text/html": [
              "<pre style=\"white-space:pre;overflow-x:auto;line-height:normal;font-family:Menlo,'DejaVu Sans Mono',consolas,'Courier New',monospace\"><span style=\"font-weight: bold\"> Non-trainable params: </span><span style=\"color: #00af00; text-decoration-color: #00af00\">0</span> (0.00 B)\n",
              "</pre>\n"
            ]
          },
          "metadata": {}
        },
        {
          "output_type": "display_data",
          "data": {
            "text/plain": [
              "\u001b[1m Optimizer params: \u001b[0m\u001b[38;5;34m3,000,596\u001b[0m (11.45 MB)\n"
            ],
            "text/html": [
              "<pre style=\"white-space:pre;overflow-x:auto;line-height:normal;font-family:Menlo,'DejaVu Sans Mono',consolas,'Courier New',monospace\"><span style=\"font-weight: bold\"> Optimizer params: </span><span style=\"color: #00af00; text-decoration-color: #00af00\">3,000,596</span> (11.45 MB)\n",
              "</pre>\n"
            ]
          },
          "metadata": {}
        }
      ]
    },
    {
      "cell_type": "code",
      "source": [
        "import os\n",
        "\n",
        "def generate_script(seed_text, next_words, max_sequence_len):\n",
        "    for _ in range(next_words):\n",
        "        token_list = tokenizer.texts_to_sequences([seed_text])[0]\n",
        "        token_list = pad_sequences([token_list], maxlen=max_sequence_len-1, padding='pre')\n",
        "        predicted = model.predict(token_list, verbose=0)\n",
        "        predicted_word_index = np.argmax(predicted, axis=-1)[0]\n",
        "        output_word = \"\"\n",
        "        for word, index in tokenizer.word_index.items():\n",
        "            if index == predicted_word_index:\n",
        "                output_word = word\n",
        "                break\n",
        "        seed_text += \" \" + output_word\n",
        "    return seed_text\n",
        "\n",
        "# Generate movie script using a seed text\n",
        "seed_text = \"The scene opens with\"\n",
        "next_words = 100\n",
        "generated_script = generate_script(seed_text, next_words, max_sequence_len)\n",
        "\n",
        "# Print the generated script\n",
        "print(\"Generated Script:\\n\")\n",
        "print(generated_script)\n",
        "\n",
        "# Ask if the user wants to save the script\n",
        "save_script = input(\"\\nDo you want to save the script? (yes/no): \").strip().lower()\n",
        "\n",
        "if save_script == 'yes':\n",
        "    # Define a file name and path\n",
        "    file_name = input(\"Enter a file name to save the script (without extension): \").strip()\n",
        "    file_path = f\"{file_name}.txt\"\n",
        "\n",
        "    # Save the script to a text file\n",
        "    with open(file_path, 'w', encoding='utf-8') as file:\n",
        "        file.write(generated_script)\n",
        "\n",
        "    print(f\"Script saved successfully as {file_path}!\")\n",
        "else:\n",
        "    print(\"Script not saved.\")\n"
      ],
      "metadata": {
        "colab": {
          "base_uri": "https://localhost:8080/"
        },
        "id": "bu3Sy2tQ4Qd6",
        "outputId": "38660612-c31e-4339-bc47-f73057fead76"
      },
      "execution_count": null,
      "outputs": [
        {
          "output_type": "stream",
          "name": "stdout",
          "text": [
            "Generated Script:\n",
            "\n",
            "The scene opens with huge teeth he ties this demon to a rock and what are you going to p ocean he gonna help me get to desirable should be worth that now desirable desirable desirable i gotta wanna get you and desirable i desirable desirable desirable desirable desirable gasps desirable i desirable here you'll desirable desirable desirable desirable desirable i desirable desirable desirable i remembered it again i taste desirable desirable desirable desirable desirable i don't want you desirable desirable i desirable desirable desirable desirable i don't desirable so much fun at it desirable desirable fun and now i desirable desirable so much\n",
            "\n",
            "Do you want to save the script? (yes/no): yes\n",
            "Enter a file name to save the script (without extension): new\n",
            "Script saved successfully as new.txt!\n"
          ]
        }
      ]
    },
    {
      "cell_type": "code",
      "source": [
        "import random\n",
        "import numpy as np\n",
        "from tensorflow.keras.preprocessing.sequence import pad_sequences\n",
        "\n",
        "character_names = [\"Character A\", \"Character B\", \"Character C\"]\n",
        "\n",
        "def sample(predictions, temperature=1.0):\n",
        "    \"\"\"Helper function to sample an index from a probability array with temperature.\"\"\"\n",
        "    predictions = np.asarray(predictions).astype('float64')\n",
        "    predictions = np.log(np.clip(predictions, 1e-10, None)) / temperature  # Clip to avoid divide by zero\n",
        "    exp_preds = np.exp(predictions)\n",
        "    predictions = exp_preds / np.sum(exp_preds)\n",
        "    probas = np.random.multinomial(1, predictions, 1)\n",
        "    return np.argmax(probas)\n",
        "\n",
        "def generate_script_with_temperature(seed_text, next_words, max_sequence_len, temperature=0.8):\n",
        "    script = \"\"\n",
        "    current_character = random.choice(character_names)\n",
        "    script += current_character + \": \"  # Add character name\n",
        "\n",
        "    for _ in range(next_words):\n",
        "        token_list = tokenizer.texts_to_sequences([seed_text])[0]\n",
        "        token_list = pad_sequences([token_list], maxlen=max_sequence_len-1, padding='pre')\n",
        "        predictions = model.predict(token_list, verbose=0)[0]\n",
        "\n",
        "        # Use temperature sampling to select the next word\n",
        "        predicted_word_index = sample(predictions, temperature)\n",
        "\n",
        "        # Find the predicted word\n",
        "        output_word = \"\"\n",
        "        for word, index in tokenizer.word_index.items():\n",
        "            if index == predicted_word_index:\n",
        "                output_word = word\n",
        "                break\n",
        "\n",
        "        # If no valid word found, continue to the next iteration\n",
        "        if not output_word:\n",
        "            continue\n",
        "\n",
        "        # Switch character at sentence end or with 10% probability\n",
        "        if output_word in [\".\", \"!\", \"?\"] or random.random() < 0.1:\n",
        "            current_character = random.choice(character_names)\n",
        "            script += \"\\n\" + current_character + \": \"\n",
        "\n",
        "        # Add the predicted word to the script and update seed_text\n",
        "        seed_text += \" \" + output_word\n",
        "        script += \" \" + output_word\n",
        "\n",
        "    return script\n",
        "\n",
        "# Generate the script\n",
        "seed_text = \"last night\"\n",
        "next_words = 150\n",
        "max_sequence_len = 20  # Adjust based on your model's training data\n",
        "temperature = 0.8\n",
        "generated_script = generate_script_with_temperature(seed_text, next_words, max_sequence_len, temperature=temperature)\n",
        "\n",
        "print(\"Generated Script:\\n\")\n",
        "print(generated_script)\n",
        "\n",
        "# Ask if the user wants to save the script\n",
        "save_script = input(\"\\nDo you want to save the script? (yes/no): \").strip().lower()\n",
        "\n",
        "if save_script == 'yes':\n",
        "    # Define a file name and path\n",
        "    file_name = input(\"Enter a file name to save the script (without extension): \").strip()\n",
        "    file_path = f\"{file_name}.txt\"\n",
        "\n",
        "    # Save the script to a text file\n",
        "    with open(file_path, 'w', encoding='utf-8') as file:\n",
        "        file.write(generated_script)\n",
        "\n",
        "    print(f\"Script saved successfully as {file_path}!\")\n",
        "else:\n",
        "    print(\"Script not saved.\")\n"
      ],
      "metadata": {
        "colab": {
          "base_uri": "https://localhost:8080/"
        },
        "id": "pT-OP3sa4Q9s",
        "outputId": "d40458c9-b35b-43e7-e7bd-23a7b70f14c1"
      },
      "execution_count": null,
      "outputs": [
        {
          "output_type": "stream",
          "name": "stdout",
          "text": [
            "Generated Script:\n",
            "\n",
            "Character C:  1 fish he cause delays and sometimes as a clownfish did you help me go yeah by you were\n",
            "Character B:  here dory gasps get on a shark can you know desirable\n",
            "Character B:  and you desirable gonna help charge away\n",
            "Character C:  desirable desirable desirable dory\n",
            "Character A:  gasps we do desirable desirable this son i desirable aimin' it the east of desirable we're gonna desirable desirable desirable desirable desirable\n",
            "Character C:  i see it desirable desirable i'm going home\n",
            "Character B:  did you next week\n",
            "Character B:  so\n",
            "Character C:  your group okay went this desirable desirable like you\n",
            "Character B:  i'm gonna be\n",
            "Character C:  known desirable can are you and\n",
            "Character B:  what i'm going home desirable you said\n",
            "Character A:  this fine and when you really fun desirable desirable desirable i desirable desirable we're gonna desirable okay school\n",
            "Character B:  home old desirable desirable desirable i don't\n",
            "Character C:  desirable so much desirable desirable are you and i'm\n",
            "Character B:  went that desirable desirable\n",
            "Character B:  he gone see desirable desirable i was where\n",
            "Character C:  that means desirable\n",
            "\n",
            "Do you want to save the script? (yes/no): yes\n",
            "Enter a file name to save the script (without extension): neww\n",
            "Script saved successfully as neww.txt!\n"
          ]
        }
      ]
    },
    {
      "cell_type": "code",
      "source": [
        "import tensorflow as tf\n",
        "from tensorflow.keras.models import Sequential\n",
        "from tensorflow.keras.layers import Embedding, LSTM, Dense\n",
        "\n",
        "# Get the sequence length from your data preparation step\n",
        "sequence_length = max_sequence_len  # Assuming you have max_sequence_len from your previous code\n",
        "\n",
        "# Create the LSTM model\n",
        "model = Sequential([\n",
        "    Embedding(10000, 64, input_length=sequence_length),\n",
        "    LSTM(64),\n",
        "    # Change the output layer to match the number of classes and use 'softmax' activation\n",
        "    Dense(total_words, activation='softmax')\n",
        "])\n",
        "\n",
        "# Compile the model\n",
        "model.compile(loss='categorical_crossentropy', optimizer='adam', metrics=['accuracy'])\n",
        "\n",
        "# Train the model\n",
        "model.fit(X_train, y_train, epochs=100, validation_data=(X_val, y_val))  # Use validation_data instead of validation_split"
      ],
      "metadata": {
        "colab": {
          "base_uri": "https://localhost:8080/"
        },
        "id": "KnCFBKMffML8",
        "outputId": "2a206040-457e-48be-b801-0888f179c7df"
      },
      "execution_count": null,
      "outputs": [
        {
          "output_type": "stream",
          "name": "stdout",
          "text": [
            "Epoch 1/100\n",
            "\u001b[1m244/244\u001b[0m \u001b[32m━━━━━━━━━━━━━━━━━━━━\u001b[0m\u001b[37m\u001b[0m \u001b[1m8s\u001b[0m 22ms/step - accuracy: 0.0246 - loss: 6.7967 - val_accuracy: 0.0329 - val_loss: 6.3326\n",
            "Epoch 2/100\n",
            "\u001b[1m244/244\u001b[0m \u001b[32m━━━━━━━━━━━━━━━━━━━━\u001b[0m\u001b[37m\u001b[0m \u001b[1m11s\u001b[0m 25ms/step - accuracy: 0.0366 - loss: 6.0666 - val_accuracy: 0.0329 - val_loss: 6.3818\n",
            "Epoch 3/100\n",
            "\u001b[1m244/244\u001b[0m \u001b[32m━━━━━━━━━━━━━━━━━━━━\u001b[0m\u001b[37m\u001b[0m \u001b[1m5s\u001b[0m 19ms/step - accuracy: 0.0347 - loss: 5.9924 - val_accuracy: 0.0323 - val_loss: 6.4487\n",
            "Epoch 4/100\n",
            "\u001b[1m244/244\u001b[0m \u001b[32m━━━━━━━━━━━━━━━━━━━━\u001b[0m\u001b[37m\u001b[0m \u001b[1m5s\u001b[0m 20ms/step - accuracy: 0.0355 - loss: 5.9065 - val_accuracy: 0.0334 - val_loss: 6.4707\n",
            "Epoch 5/100\n",
            "\u001b[1m244/244\u001b[0m \u001b[32m━━━━━━━━━━━━━━━━━━━━\u001b[0m\u001b[37m\u001b[0m \u001b[1m6s\u001b[0m 23ms/step - accuracy: 0.0328 - loss: 5.8715 - val_accuracy: 0.0370 - val_loss: 6.5033\n",
            "Epoch 6/100\n",
            "\u001b[1m244/244\u001b[0m \u001b[32m━━━━━━━━━━━━━━━━━━━━\u001b[0m\u001b[37m\u001b[0m \u001b[1m5s\u001b[0m 19ms/step - accuracy: 0.0443 - loss: 5.7368 - val_accuracy: 0.0441 - val_loss: 6.4964\n",
            "Epoch 7/100\n",
            "\u001b[1m244/244\u001b[0m \u001b[32m━━━━━━━━━━━━━━━━━━━━\u001b[0m\u001b[37m\u001b[0m \u001b[1m6s\u001b[0m 24ms/step - accuracy: 0.0483 - loss: 5.6671 - val_accuracy: 0.0508 - val_loss: 6.5233\n",
            "Epoch 8/100\n",
            "\u001b[1m244/244\u001b[0m \u001b[32m━━━━━━━━━━━━━━━━━━━━\u001b[0m\u001b[37m\u001b[0m \u001b[1m9s\u001b[0m 18ms/step - accuracy: 0.0672 - loss: 5.5420 - val_accuracy: 0.0534 - val_loss: 6.5068\n",
            "Epoch 9/100\n",
            "\u001b[1m244/244\u001b[0m \u001b[32m━━━━━━━━━━━━━━━━━━━━\u001b[0m\u001b[37m\u001b[0m \u001b[1m7s\u001b[0m 25ms/step - accuracy: 0.0694 - loss: 5.4656 - val_accuracy: 0.0698 - val_loss: 6.4775\n",
            "Epoch 10/100\n",
            "\u001b[1m244/244\u001b[0m \u001b[32m━━━━━━━━━━━━━━━━━━━━\u001b[0m\u001b[37m\u001b[0m \u001b[1m4s\u001b[0m 18ms/step - accuracy: 0.0785 - loss: 5.3445 - val_accuracy: 0.0744 - val_loss: 6.4601\n",
            "Epoch 11/100\n",
            "\u001b[1m244/244\u001b[0m \u001b[32m━━━━━━━━━━━━━━━━━━━━\u001b[0m\u001b[37m\u001b[0m \u001b[1m6s\u001b[0m 22ms/step - accuracy: 0.0911 - loss: 5.2538 - val_accuracy: 0.0662 - val_loss: 6.4267\n",
            "Epoch 12/100\n",
            "\u001b[1m244/244\u001b[0m \u001b[32m━━━━━━━━━━━━━━━━━━━━\u001b[0m\u001b[37m\u001b[0m \u001b[1m5s\u001b[0m 21ms/step - accuracy: 0.0985 - loss: 5.1406 - val_accuracy: 0.0816 - val_loss: 6.4126\n",
            "Epoch 13/100\n",
            "\u001b[1m244/244\u001b[0m \u001b[32m━━━━━━━━━━━━━━━━━━━━\u001b[0m\u001b[37m\u001b[0m \u001b[1m5s\u001b[0m 18ms/step - accuracy: 0.1133 - loss: 5.0241 - val_accuracy: 0.0852 - val_loss: 6.4012\n",
            "Epoch 14/100\n",
            "\u001b[1m244/244\u001b[0m \u001b[32m━━━━━━━━━━━━━━━━━━━━\u001b[0m\u001b[37m\u001b[0m \u001b[1m7s\u001b[0m 25ms/step - accuracy: 0.1248 - loss: 4.8978 - val_accuracy: 0.0934 - val_loss: 6.3709\n",
            "Epoch 15/100\n",
            "\u001b[1m244/244\u001b[0m \u001b[32m━━━━━━━━━━━━━━━━━━━━\u001b[0m\u001b[37m\u001b[0m \u001b[1m9s\u001b[0m 18ms/step - accuracy: 0.1326 - loss: 4.8227 - val_accuracy: 0.0950 - val_loss: 6.3813\n",
            "Epoch 16/100\n",
            "\u001b[1m244/244\u001b[0m \u001b[32m━━━━━━━━━━━━━━━━━━━━\u001b[0m\u001b[37m\u001b[0m \u001b[1m7s\u001b[0m 24ms/step - accuracy: 0.1448 - loss: 4.7041 - val_accuracy: 0.0980 - val_loss: 6.3915\n",
            "Epoch 17/100\n",
            "\u001b[1m244/244\u001b[0m \u001b[32m━━━━━━━━━━━━━━━━━━━━\u001b[0m\u001b[37m\u001b[0m \u001b[1m4s\u001b[0m 18ms/step - accuracy: 0.1555 - loss: 4.5785 - val_accuracy: 0.0991 - val_loss: 6.3662\n",
            "Epoch 18/100\n",
            "\u001b[1m244/244\u001b[0m \u001b[32m━━━━━━━━━━━━━━━━━━━━\u001b[0m\u001b[37m\u001b[0m \u001b[1m6s\u001b[0m 22ms/step - accuracy: 0.1606 - loss: 4.5167 - val_accuracy: 0.1006 - val_loss: 6.3806\n",
            "Epoch 19/100\n",
            "\u001b[1m244/244\u001b[0m \u001b[32m━━━━━━━━━━━━━━━━━━━━\u001b[0m\u001b[37m\u001b[0m \u001b[1m5s\u001b[0m 20ms/step - accuracy: 0.1728 - loss: 4.3779 - val_accuracy: 0.1047 - val_loss: 6.3768\n",
            "Epoch 20/100\n",
            "\u001b[1m244/244\u001b[0m \u001b[32m━━━━━━━━━━━━━━━━━━━━\u001b[0m\u001b[37m\u001b[0m \u001b[1m4s\u001b[0m 18ms/step - accuracy: 0.1985 - loss: 4.2645 - val_accuracy: 0.1083 - val_loss: 6.3836\n",
            "Epoch 21/100\n",
            "\u001b[1m244/244\u001b[0m \u001b[32m━━━━━━━━━━━━━━━━━━━━\u001b[0m\u001b[37m\u001b[0m \u001b[1m7s\u001b[0m 25ms/step - accuracy: 0.2136 - loss: 4.1415 - val_accuracy: 0.1073 - val_loss: 6.3949\n",
            "Epoch 22/100\n",
            "\u001b[1m244/244\u001b[0m \u001b[32m━━━━━━━━━━━━━━━━━━━━\u001b[0m\u001b[37m\u001b[0m \u001b[1m9s\u001b[0m 18ms/step - accuracy: 0.2133 - loss: 4.0906 - val_accuracy: 0.1114 - val_loss: 6.4144\n",
            "Epoch 23/100\n",
            "\u001b[1m244/244\u001b[0m \u001b[32m━━━━━━━━━━━━━━━━━━━━\u001b[0m\u001b[37m\u001b[0m \u001b[1m6s\u001b[0m 22ms/step - accuracy: 0.2237 - loss: 3.9882 - val_accuracy: 0.1176 - val_loss: 6.4122\n",
            "Epoch 24/100\n",
            "\u001b[1m244/244\u001b[0m \u001b[32m━━━━━━━━━━━━━━━━━━━━\u001b[0m\u001b[37m\u001b[0m \u001b[1m4s\u001b[0m 18ms/step - accuracy: 0.2439 - loss: 3.8785 - val_accuracy: 0.1150 - val_loss: 6.4297\n",
            "Epoch 25/100\n",
            "\u001b[1m244/244\u001b[0m \u001b[32m━━━━━━━━━━━━━━━━━━━━\u001b[0m\u001b[37m\u001b[0m \u001b[1m7s\u001b[0m 25ms/step - accuracy: 0.2405 - loss: 3.8381 - val_accuracy: 0.1181 - val_loss: 6.4570\n",
            "Epoch 26/100\n",
            "\u001b[1m244/244\u001b[0m \u001b[32m━━━━━━━━━━━━━━━━━━━━\u001b[0m\u001b[37m\u001b[0m \u001b[1m9s\u001b[0m 18ms/step - accuracy: 0.2588 - loss: 3.7135 - val_accuracy: 0.1206 - val_loss: 6.4843\n",
            "Epoch 27/100\n",
            "\u001b[1m244/244\u001b[0m \u001b[32m━━━━━━━━━━━━━━━━━━━━\u001b[0m\u001b[37m\u001b[0m \u001b[1m6s\u001b[0m 25ms/step - accuracy: 0.2744 - loss: 3.6259 - val_accuracy: 0.1196 - val_loss: 6.5062\n",
            "Epoch 28/100\n",
            "\u001b[1m244/244\u001b[0m \u001b[32m━━━━━━━━━━━━━━━━━━━━\u001b[0m\u001b[37m\u001b[0m \u001b[1m8s\u001b[0m 18ms/step - accuracy: 0.2928 - loss: 3.5241 - val_accuracy: 0.1232 - val_loss: 6.5260\n",
            "Epoch 29/100\n",
            "\u001b[1m244/244\u001b[0m \u001b[32m━━━━━━━━━━━━━━━━━━━━\u001b[0m\u001b[37m\u001b[0m \u001b[1m6s\u001b[0m 25ms/step - accuracy: 0.2996 - loss: 3.4421 - val_accuracy: 0.1181 - val_loss: 6.5500\n",
            "Epoch 30/100\n",
            "\u001b[1m244/244\u001b[0m \u001b[32m━━━━━━━━━━━━━━━━━━━━\u001b[0m\u001b[37m\u001b[0m \u001b[1m9s\u001b[0m 19ms/step - accuracy: 0.3164 - loss: 3.3496 - val_accuracy: 0.1227 - val_loss: 6.5864\n",
            "Epoch 31/100\n",
            "\u001b[1m244/244\u001b[0m \u001b[32m━━━━━━━━━━━━━━━━━━━━\u001b[0m\u001b[37m\u001b[0m \u001b[1m6s\u001b[0m 21ms/step - accuracy: 0.3264 - loss: 3.2514 - val_accuracy: 0.1227 - val_loss: 6.6127\n",
            "Epoch 32/100\n",
            "\u001b[1m244/244\u001b[0m \u001b[32m━━━━━━━━━━━━━━━━━━━━\u001b[0m\u001b[37m\u001b[0m \u001b[1m11s\u001b[0m 26ms/step - accuracy: 0.3468 - loss: 3.2006 - val_accuracy: 0.1253 - val_loss: 6.6549\n",
            "Epoch 33/100\n",
            "\u001b[1m244/244\u001b[0m \u001b[32m━━━━━━━━━━━━━━━━━━━━\u001b[0m\u001b[37m\u001b[0m \u001b[1m5s\u001b[0m 18ms/step - accuracy: 0.3641 - loss: 3.1034 - val_accuracy: 0.1273 - val_loss: 6.6898\n",
            "Epoch 34/100\n",
            "\u001b[1m244/244\u001b[0m \u001b[32m━━━━━━━━━━━━━━━━━━━━\u001b[0m\u001b[37m\u001b[0m \u001b[1m5s\u001b[0m 18ms/step - accuracy: 0.3766 - loss: 3.0247 - val_accuracy: 0.1253 - val_loss: 6.7152\n",
            "Epoch 35/100\n",
            "\u001b[1m244/244\u001b[0m \u001b[32m━━━━━━━━━━━━━━━━━━━━\u001b[0m\u001b[37m\u001b[0m \u001b[1m6s\u001b[0m 25ms/step - accuracy: 0.3793 - loss: 2.9717 - val_accuracy: 0.1289 - val_loss: 6.7625\n",
            "Epoch 36/100\n",
            "\u001b[1m244/244\u001b[0m \u001b[32m━━━━━━━━━━━━━━━━━━━━\u001b[0m\u001b[37m\u001b[0m \u001b[1m8s\u001b[0m 18ms/step - accuracy: 0.4087 - loss: 2.8646 - val_accuracy: 0.1319 - val_loss: 6.7807\n",
            "Epoch 37/100\n",
            "\u001b[1m244/244\u001b[0m \u001b[32m━━━━━━━━━━━━━━━━━━━━\u001b[0m\u001b[37m\u001b[0m \u001b[1m6s\u001b[0m 25ms/step - accuracy: 0.4268 - loss: 2.7818 - val_accuracy: 0.1319 - val_loss: 6.8259\n",
            "Epoch 38/100\n",
            "\u001b[1m244/244\u001b[0m \u001b[32m━━━━━━━━━━━━━━━━━━━━\u001b[0m\u001b[37m\u001b[0m \u001b[1m5s\u001b[0m 19ms/step - accuracy: 0.4330 - loss: 2.7325 - val_accuracy: 0.1376 - val_loss: 6.8671\n",
            "Epoch 39/100\n",
            "\u001b[1m244/244\u001b[0m \u001b[32m━━━━━━━━━━━━━━━━━━━━\u001b[0m\u001b[37m\u001b[0m \u001b[1m6s\u001b[0m 25ms/step - accuracy: 0.4392 - loss: 2.6876 - val_accuracy: 0.1350 - val_loss: 6.8988\n",
            "Epoch 40/100\n",
            "\u001b[1m244/244\u001b[0m \u001b[32m━━━━━━━━━━━━━━━━━━━━\u001b[0m\u001b[37m\u001b[0m \u001b[1m9s\u001b[0m 19ms/step - accuracy: 0.4532 - loss: 2.6150 - val_accuracy: 0.1330 - val_loss: 6.9415\n",
            "Epoch 41/100\n",
            "\u001b[1m244/244\u001b[0m \u001b[32m━━━━━━━━━━━━━━━━━━━━\u001b[0m\u001b[37m\u001b[0m \u001b[1m7s\u001b[0m 25ms/step - accuracy: 0.4690 - loss: 2.5260 - val_accuracy: 0.1345 - val_loss: 6.9852\n",
            "Epoch 42/100\n",
            "\u001b[1m244/244\u001b[0m \u001b[32m━━━━━━━━━━━━━━━━━━━━\u001b[0m\u001b[37m\u001b[0m \u001b[1m4s\u001b[0m 18ms/step - accuracy: 0.4742 - loss: 2.4831 - val_accuracy: 0.1330 - val_loss: 7.0290\n",
            "Epoch 43/100\n",
            "\u001b[1m244/244\u001b[0m \u001b[32m━━━━━━━━━━━━━━━━━━━━\u001b[0m\u001b[37m\u001b[0m \u001b[1m6s\u001b[0m 21ms/step - accuracy: 0.4843 - loss: 2.4323 - val_accuracy: 0.1355 - val_loss: 7.0570\n",
            "Epoch 44/100\n",
            "\u001b[1m244/244\u001b[0m \u001b[32m━━━━━━━━━━━━━━━━━━━━\u001b[0m\u001b[37m\u001b[0m \u001b[1m5s\u001b[0m 21ms/step - accuracy: 0.5032 - loss: 2.3447 - val_accuracy: 0.1381 - val_loss: 7.1006\n",
            "Epoch 45/100\n",
            "\u001b[1m244/244\u001b[0m \u001b[32m━━━━━━━━━━━━━━━━━━━━\u001b[0m\u001b[37m\u001b[0m \u001b[1m11s\u001b[0m 25ms/step - accuracy: 0.5039 - loss: 2.3141 - val_accuracy: 0.1376 - val_loss: 7.1589\n",
            "Epoch 46/100\n",
            "\u001b[1m244/244\u001b[0m \u001b[32m━━━━━━━━━━━━━━━━━━━━\u001b[0m\u001b[37m\u001b[0m \u001b[1m9s\u001b[0m 18ms/step - accuracy: 0.5149 - loss: 2.2770 - val_accuracy: 0.1324 - val_loss: 7.1882\n",
            "Epoch 47/100\n",
            "\u001b[1m244/244\u001b[0m \u001b[32m━━━━━━━━━━━━━━━━━━━━\u001b[0m\u001b[37m\u001b[0m \u001b[1m7s\u001b[0m 26ms/step - accuracy: 0.5169 - loss: 2.2453 - val_accuracy: 0.1371 - val_loss: 7.2328\n",
            "Epoch 48/100\n",
            "\u001b[1m244/244\u001b[0m \u001b[32m━━━━━━━━━━━━━━━━━━━━\u001b[0m\u001b[37m\u001b[0m \u001b[1m5s\u001b[0m 19ms/step - accuracy: 0.5495 - loss: 2.1340 - val_accuracy: 0.1360 - val_loss: 7.2662\n",
            "Epoch 49/100\n",
            "\u001b[1m244/244\u001b[0m \u001b[32m━━━━━━━━━━━━━━━━━━━━\u001b[0m\u001b[37m\u001b[0m \u001b[1m6s\u001b[0m 24ms/step - accuracy: 0.5423 - loss: 2.1384 - val_accuracy: 0.1360 - val_loss: 7.3182\n",
            "Epoch 50/100\n",
            "\u001b[1m244/244\u001b[0m \u001b[32m━━━━━━━━━━━━━━━━━━━━\u001b[0m\u001b[37m\u001b[0m \u001b[1m5s\u001b[0m 21ms/step - accuracy: 0.5546 - loss: 2.0663 - val_accuracy: 0.1360 - val_loss: 7.3548\n",
            "Epoch 51/100\n",
            "\u001b[1m244/244\u001b[0m \u001b[32m━━━━━━━━━━━━━━━━━━━━\u001b[0m\u001b[37m\u001b[0m \u001b[1m5s\u001b[0m 19ms/step - accuracy: 0.5554 - loss: 2.0506 - val_accuracy: 0.1396 - val_loss: 7.3980\n",
            "Epoch 52/100\n",
            "\u001b[1m244/244\u001b[0m \u001b[32m━━━━━━━━━━━━━━━━━━━━\u001b[0m\u001b[37m\u001b[0m \u001b[1m7s\u001b[0m 27ms/step - accuracy: 0.5651 - loss: 1.9836 - val_accuracy: 0.1340 - val_loss: 7.4589\n",
            "Epoch 53/100\n",
            "\u001b[1m244/244\u001b[0m \u001b[32m━━━━━━━━━━━━━━━━━━━━\u001b[0m\u001b[37m\u001b[0m \u001b[1m9s\u001b[0m 22ms/step - accuracy: 0.5747 - loss: 1.9328 - val_accuracy: 0.1330 - val_loss: 7.4798\n",
            "Epoch 54/100\n",
            "\u001b[1m244/244\u001b[0m \u001b[32m━━━━━━━━━━━━━━━━━━━━\u001b[0m\u001b[37m\u001b[0m \u001b[1m6s\u001b[0m 25ms/step - accuracy: 0.5868 - loss: 1.8945 - val_accuracy: 0.1299 - val_loss: 7.5379\n",
            "Epoch 55/100\n",
            "\u001b[1m244/244\u001b[0m \u001b[32m━━━━━━━━━━━━━━━━━━━━\u001b[0m\u001b[37m\u001b[0m \u001b[1m5s\u001b[0m 21ms/step - accuracy: 0.5804 - loss: 1.8838 - val_accuracy: 0.1330 - val_loss: 7.5846\n",
            "Epoch 56/100\n",
            "\u001b[1m244/244\u001b[0m \u001b[32m━━━━━━━━━━━━━━━━━━━━\u001b[0m\u001b[37m\u001b[0m \u001b[1m7s\u001b[0m 28ms/step - accuracy: 0.5960 - loss: 1.8350 - val_accuracy: 0.1340 - val_loss: 7.6145\n",
            "Epoch 57/100\n",
            "\u001b[1m244/244\u001b[0m \u001b[32m━━━━━━━━━━━━━━━━━━━━\u001b[0m\u001b[37m\u001b[0m \u001b[1m8s\u001b[0m 19ms/step - accuracy: 0.5917 - loss: 1.8180 - val_accuracy: 0.1340 - val_loss: 7.6561\n",
            "Epoch 58/100\n",
            "\u001b[1m244/244\u001b[0m \u001b[32m━━━━━━━━━━━━━━━━━━━━\u001b[0m\u001b[37m\u001b[0m \u001b[1m7s\u001b[0m 25ms/step - accuracy: 0.6094 - loss: 1.7663 - val_accuracy: 0.1330 - val_loss: 7.6974\n",
            "Epoch 59/100\n",
            "\u001b[1m244/244\u001b[0m \u001b[32m━━━━━━━━━━━━━━━━━━━━\u001b[0m\u001b[37m\u001b[0m \u001b[1m5s\u001b[0m 19ms/step - accuracy: 0.6191 - loss: 1.7325 - val_accuracy: 0.1309 - val_loss: 7.7381\n",
            "Epoch 60/100\n",
            "\u001b[1m244/244\u001b[0m \u001b[32m━━━━━━━━━━━━━━━━━━━━\u001b[0m\u001b[37m\u001b[0m \u001b[1m5s\u001b[0m 22ms/step - accuracy: 0.6184 - loss: 1.7158 - val_accuracy: 0.1340 - val_loss: 7.7888\n",
            "Epoch 61/100\n",
            "\u001b[1m244/244\u001b[0m \u001b[32m━━━━━━━━━━━━━━━━━━━━\u001b[0m\u001b[37m\u001b[0m \u001b[1m10s\u001b[0m 19ms/step - accuracy: 0.6303 - loss: 1.6746 - val_accuracy: 0.1360 - val_loss: 7.8185\n",
            "Epoch 62/100\n",
            "\u001b[1m244/244\u001b[0m \u001b[32m━━━━━━━━━━━━━━━━━━━━\u001b[0m\u001b[37m\u001b[0m \u001b[1m6s\u001b[0m 26ms/step - accuracy: 0.6311 - loss: 1.6548 - val_accuracy: 0.1350 - val_loss: 7.8723\n",
            "Epoch 63/100\n",
            "\u001b[1m244/244\u001b[0m \u001b[32m━━━━━━━━━━━━━━━━━━━━\u001b[0m\u001b[37m\u001b[0m \u001b[1m9s\u001b[0m 19ms/step - accuracy: 0.6463 - loss: 1.6156 - val_accuracy: 0.1355 - val_loss: 7.9215\n",
            "Epoch 64/100\n",
            "\u001b[1m244/244\u001b[0m \u001b[32m━━━━━━━━━━━━━━━━━━━━\u001b[0m\u001b[37m\u001b[0m \u001b[1m7s\u001b[0m 26ms/step - accuracy: 0.6565 - loss: 1.5798 - val_accuracy: 0.1355 - val_loss: 7.9607\n",
            "Epoch 65/100\n",
            "\u001b[1m244/244\u001b[0m \u001b[32m━━━━━━━━━━━━━━━━━━━━\u001b[0m\u001b[37m\u001b[0m \u001b[1m9s\u001b[0m 22ms/step - accuracy: 0.6550 - loss: 1.5530 - val_accuracy: 0.1324 - val_loss: 7.9859\n",
            "Epoch 66/100\n",
            "\u001b[1m244/244\u001b[0m \u001b[32m━━━━━━━━━━━━━━━━━━━━\u001b[0m\u001b[37m\u001b[0m \u001b[1m10s\u001b[0m 19ms/step - accuracy: 0.6616 - loss: 1.5427 - val_accuracy: 0.1340 - val_loss: 8.0328\n",
            "Epoch 67/100\n",
            "\u001b[1m244/244\u001b[0m \u001b[32m━━━━━━━━━━━━━━━━━━━━\u001b[0m\u001b[37m\u001b[0m \u001b[1m6s\u001b[0m 26ms/step - accuracy: 0.6643 - loss: 1.5334 - val_accuracy: 0.1314 - val_loss: 8.0788\n",
            "Epoch 68/100\n",
            "\u001b[1m244/244\u001b[0m \u001b[32m━━━━━━━━━━━━━━━━━━━━\u001b[0m\u001b[37m\u001b[0m \u001b[1m9s\u001b[0m 20ms/step - accuracy: 0.6764 - loss: 1.4666 - val_accuracy: 0.1319 - val_loss: 8.1175\n",
            "Epoch 69/100\n",
            "\u001b[1m244/244\u001b[0m \u001b[32m━━━━━━━━━━━━━━━━━━━━\u001b[0m\u001b[37m\u001b[0m \u001b[1m6s\u001b[0m 25ms/step - accuracy: 0.6821 - loss: 1.4288 - val_accuracy: 0.1294 - val_loss: 8.1652\n",
            "Epoch 70/100\n",
            "\u001b[1m244/244\u001b[0m \u001b[32m━━━━━━━━━━━━━━━━━━━━\u001b[0m\u001b[37m\u001b[0m \u001b[1m5s\u001b[0m 19ms/step - accuracy: 0.6852 - loss: 1.4151 - val_accuracy: 0.1345 - val_loss: 8.2005\n",
            "Epoch 71/100\n",
            "\u001b[1m244/244\u001b[0m \u001b[32m━━━━━━━━━━━━━━━━━━━━\u001b[0m\u001b[37m\u001b[0m \u001b[1m6s\u001b[0m 24ms/step - accuracy: 0.6850 - loss: 1.4235 - val_accuracy: 0.1319 - val_loss: 8.2292\n",
            "Epoch 72/100\n",
            "\u001b[1m244/244\u001b[0m \u001b[32m━━━━━━━━━━━━━━━━━━━━\u001b[0m\u001b[37m\u001b[0m \u001b[1m9s\u001b[0m 20ms/step - accuracy: 0.7001 - loss: 1.3623 - val_accuracy: 0.1355 - val_loss: 8.2683\n",
            "Epoch 73/100\n",
            "\u001b[1m244/244\u001b[0m \u001b[32m━━━━━━━━━━━━━━━━━━━━\u001b[0m\u001b[37m\u001b[0m \u001b[1m6s\u001b[0m 26ms/step - accuracy: 0.6991 - loss: 1.3350 - val_accuracy: 0.1324 - val_loss: 8.3169\n",
            "Epoch 74/100\n",
            "\u001b[1m244/244\u001b[0m \u001b[32m━━━━━━━━━━━━━━━━━━━━\u001b[0m\u001b[37m\u001b[0m \u001b[1m9s\u001b[0m 19ms/step - accuracy: 0.7062 - loss: 1.3136 - val_accuracy: 0.1340 - val_loss: 8.3661\n",
            "Epoch 75/100\n",
            "\u001b[1m244/244\u001b[0m \u001b[32m━━━━━━━━━━━━━━━━━━━━\u001b[0m\u001b[37m\u001b[0m \u001b[1m6s\u001b[0m 25ms/step - accuracy: 0.7021 - loss: 1.3256 - val_accuracy: 0.1314 - val_loss: 8.4109\n",
            "Epoch 76/100\n",
            "\u001b[1m244/244\u001b[0m \u001b[32m━━━━━━━━━━━━━━━━━━━━\u001b[0m\u001b[37m\u001b[0m \u001b[1m10s\u001b[0m 24ms/step - accuracy: 0.7038 - loss: 1.3130 - val_accuracy: 0.1340 - val_loss: 8.4445\n",
            "Epoch 77/100\n",
            "\u001b[1m244/244\u001b[0m \u001b[32m━━━━━━━━━━━━━━━━━━━━\u001b[0m\u001b[37m\u001b[0m \u001b[1m5s\u001b[0m 21ms/step - accuracy: 0.7179 - loss: 1.2594 - val_accuracy: 0.1324 - val_loss: 8.4744\n",
            "Epoch 78/100\n",
            "\u001b[1m244/244\u001b[0m \u001b[32m━━━━━━━━━━━━━━━━━━━━\u001b[0m\u001b[37m\u001b[0m \u001b[1m5s\u001b[0m 20ms/step - accuracy: 0.7262 - loss: 1.2252 - val_accuracy: 0.1330 - val_loss: 8.5325\n",
            "Epoch 79/100\n",
            "\u001b[1m244/244\u001b[0m \u001b[32m━━━━━━━━━━━━━━━━━━━━\u001b[0m\u001b[37m\u001b[0m \u001b[1m6s\u001b[0m 25ms/step - accuracy: 0.7286 - loss: 1.2080 - val_accuracy: 0.1360 - val_loss: 8.5479\n",
            "Epoch 80/100\n",
            "\u001b[1m244/244\u001b[0m \u001b[32m━━━━━━━━━━━━━━━━━━━━\u001b[0m\u001b[37m\u001b[0m \u001b[1m9s\u001b[0m 22ms/step - accuracy: 0.7292 - loss: 1.2098 - val_accuracy: 0.1366 - val_loss: 8.5819\n",
            "Epoch 81/100\n",
            "\u001b[1m244/244\u001b[0m \u001b[32m━━━━━━━━━━━━━━━━━━━━\u001b[0m\u001b[37m\u001b[0m \u001b[1m10s\u001b[0m 19ms/step - accuracy: 0.7330 - loss: 1.1898 - val_accuracy: 0.1340 - val_loss: 8.6450\n",
            "Epoch 82/100\n",
            "\u001b[1m244/244\u001b[0m \u001b[32m━━━━━━━━━━━━━━━━━━━━\u001b[0m\u001b[37m\u001b[0m \u001b[1m6s\u001b[0m 25ms/step - accuracy: 0.7340 - loss: 1.1664 - val_accuracy: 0.1309 - val_loss: 8.6744\n",
            "Epoch 83/100\n",
            "\u001b[1m244/244\u001b[0m \u001b[32m━━━━━━━━━━━━━━━━━━━━\u001b[0m\u001b[37m\u001b[0m \u001b[1m9s\u001b[0m 19ms/step - accuracy: 0.7397 - loss: 1.1580 - val_accuracy: 0.1350 - val_loss: 8.7018\n",
            "Epoch 84/100\n",
            "\u001b[1m244/244\u001b[0m \u001b[32m━━━━━━━━━━━━━━━━━━━━\u001b[0m\u001b[37m\u001b[0m \u001b[1m6s\u001b[0m 26ms/step - accuracy: 0.7509 - loss: 1.1178 - val_accuracy: 0.1324 - val_loss: 8.7490\n",
            "Epoch 85/100\n",
            "\u001b[1m244/244\u001b[0m \u001b[32m━━━━━━━━━━━━━━━━━━━━\u001b[0m\u001b[37m\u001b[0m \u001b[1m9s\u001b[0m 21ms/step - accuracy: 0.7487 - loss: 1.1249 - val_accuracy: 0.1294 - val_loss: 8.7867\n",
            "Epoch 86/100\n",
            "\u001b[1m244/244\u001b[0m \u001b[32m━━━━━━━━━━━━━━━━━━━━\u001b[0m\u001b[37m\u001b[0m \u001b[1m6s\u001b[0m 23ms/step - accuracy: 0.7344 - loss: 1.1479 - val_accuracy: 0.1294 - val_loss: 8.8429\n",
            "Epoch 87/100\n",
            "\u001b[1m244/244\u001b[0m \u001b[32m━━━━━━━━━━━━━━━━━━━━\u001b[0m\u001b[37m\u001b[0m \u001b[1m10s\u001b[0m 24ms/step - accuracy: 0.7474 - loss: 1.1172 - val_accuracy: 0.1345 - val_loss: 8.8748\n",
            "Epoch 88/100\n",
            "\u001b[1m244/244\u001b[0m \u001b[32m━━━━━━━━━━━━━━━━━━━━\u001b[0m\u001b[37m\u001b[0m \u001b[1m5s\u001b[0m 21ms/step - accuracy: 0.7599 - loss: 1.0547 - val_accuracy: 0.1299 - val_loss: 8.9061\n",
            "Epoch 89/100\n",
            "\u001b[1m244/244\u001b[0m \u001b[32m━━━━━━━━━━━━━━━━━━━━\u001b[0m\u001b[37m\u001b[0m \u001b[1m5s\u001b[0m 19ms/step - accuracy: 0.7532 - loss: 1.0568 - val_accuracy: 0.1371 - val_loss: 8.9529\n",
            "Epoch 90/100\n",
            "\u001b[1m244/244\u001b[0m \u001b[32m━━━━━━━━━━━━━━━━━━━━\u001b[0m\u001b[37m\u001b[0m \u001b[1m7s\u001b[0m 26ms/step - accuracy: 0.7657 - loss: 1.0365 - val_accuracy: 0.1309 - val_loss: 8.9840\n",
            "Epoch 91/100\n",
            "\u001b[1m244/244\u001b[0m \u001b[32m━━━━━━━━━━━━━━━━━━━━\u001b[0m\u001b[37m\u001b[0m \u001b[1m5s\u001b[0m 19ms/step - accuracy: 0.7667 - loss: 1.0187 - val_accuracy: 0.1299 - val_loss: 9.0038\n",
            "Epoch 92/100\n",
            "\u001b[1m244/244\u001b[0m \u001b[32m━━━━━━━━━━━━━━━━━━━━\u001b[0m\u001b[37m\u001b[0m \u001b[1m5s\u001b[0m 22ms/step - accuracy: 0.7642 - loss: 1.0369 - val_accuracy: 0.1319 - val_loss: 9.0652\n",
            "Epoch 93/100\n",
            "\u001b[1m244/244\u001b[0m \u001b[32m━━━━━━━━━━━━━━━━━━━━\u001b[0m\u001b[37m\u001b[0m \u001b[1m6s\u001b[0m 24ms/step - accuracy: 0.7704 - loss: 1.0041 - val_accuracy: 0.1273 - val_loss: 9.1015\n",
            "Epoch 94/100\n",
            "\u001b[1m244/244\u001b[0m \u001b[32m━━━━━━━━━━━━━━━━━━━━\u001b[0m\u001b[37m\u001b[0m \u001b[1m5s\u001b[0m 20ms/step - accuracy: 0.7712 - loss: 0.9773 - val_accuracy: 0.1376 - val_loss: 9.1443\n",
            "Epoch 95/100\n",
            "\u001b[1m244/244\u001b[0m \u001b[32m━━━━━━━━━━━━━━━━━━━━\u001b[0m\u001b[37m\u001b[0m \u001b[1m7s\u001b[0m 26ms/step - accuracy: 0.7705 - loss: 0.9927 - val_accuracy: 0.1314 - val_loss: 9.1712\n",
            "Epoch 96/100\n",
            "\u001b[1m244/244\u001b[0m \u001b[32m━━━━━━━━━━━━━━━━━━━━\u001b[0m\u001b[37m\u001b[0m \u001b[1m5s\u001b[0m 19ms/step - accuracy: 0.7807 - loss: 0.9731 - val_accuracy: 0.1232 - val_loss: 9.2252\n",
            "Epoch 97/100\n",
            "\u001b[1m244/244\u001b[0m \u001b[32m━━━━━━━━━━━━━━━━━━━━\u001b[0m\u001b[37m\u001b[0m \u001b[1m6s\u001b[0m 21ms/step - accuracy: 0.7901 - loss: 0.9382 - val_accuracy: 0.1289 - val_loss: 9.2405\n",
            "Epoch 98/100\n",
            "\u001b[1m244/244\u001b[0m \u001b[32m━━━━━━━━━━━━━━━━━━━━\u001b[0m\u001b[37m\u001b[0m \u001b[1m10s\u001b[0m 20ms/step - accuracy: 0.7833 - loss: 0.9473 - val_accuracy: 0.1283 - val_loss: 9.2983\n",
            "Epoch 99/100\n",
            "\u001b[1m244/244\u001b[0m \u001b[32m━━━━━━━━━━━━━━━━━━━━\u001b[0m\u001b[37m\u001b[0m \u001b[1m6s\u001b[0m 25ms/step - accuracy: 0.7938 - loss: 0.9143 - val_accuracy: 0.1253 - val_loss: 9.3165\n",
            "Epoch 100/100\n",
            "\u001b[1m244/244\u001b[0m \u001b[32m━━━━━━━━━━━━━━━━━━━━\u001b[0m\u001b[37m\u001b[0m \u001b[1m5s\u001b[0m 20ms/step - accuracy: 0.7956 - loss: 0.8954 - val_accuracy: 0.1242 - val_loss: 9.3631\n"
          ]
        },
        {
          "output_type": "execute_result",
          "data": {
            "text/plain": [
              "<keras.src.callbacks.history.History at 0x7d0b6c0ee290>"
            ]
          },
          "metadata": {},
          "execution_count": 9
        }
      ]
    },
    {
      "cell_type": "code",
      "source": [
        "import os\n",
        "\n",
        "def generate_script(seed_text, next_words, max_sequence_len):\n",
        "    for _ in range(next_words):\n",
        "        token_list = tokenizer.texts_to_sequences([seed_text])[0]\n",
        "        token_list = pad_sequences([token_list], maxlen=max_sequence_len-1, padding='pre')\n",
        "        predicted = model.predict(token_list, verbose=0)\n",
        "        predicted_word_index = np.argmax(predicted, axis=-1)[0]\n",
        "        output_word = \"\"\n",
        "        for word, index in tokenizer.word_index.items():\n",
        "            if index == predicted_word_index:\n",
        "                output_word = word\n",
        "                break\n",
        "        seed_text += \" \" + output_word\n",
        "    return seed_text\n",
        "\n",
        "# Generate movie script using a seed text\n",
        "seed_text = \"The scene opens with\"\n",
        "next_words = 100\n",
        "generated_script = generate_script(seed_text, next_words, max_sequence_len)\n",
        "\n",
        "# Print the generated script\n",
        "print(\"Generated Script:\\n\")\n",
        "print(generated_script)\n",
        "\n",
        "# Ask if the user wants to save the script\n",
        "save_script = input(\"\\nDo you want to save the script? (yes/no): \").strip().lower()\n",
        "\n",
        "if save_script == 'yes':\n",
        "    # Define a file name and path\n",
        "    file_name = input(\"Enter a file name to save the script (without extension): \").strip()\n",
        "    file_path = f\"{file_name}.txt\"\n",
        "\n",
        "    # Save the script to a text file\n",
        "    with open(file_path, 'w', encoding='utf-8') as file:\n",
        "        file.write(generated_script)\n",
        "\n",
        "    print(f\"Script saved successfully as {file_path}!\")\n",
        "else:\n",
        "    print(\"Script not saved.\")\n"
      ],
      "metadata": {
        "colab": {
          "base_uri": "https://localhost:8080/"
        },
        "id": "MUbizYPpiZ1E",
        "outputId": "c14c7116-5aaa-4f82-ae4c-1ee8f4e30c19"
      },
      "execution_count": null,
      "outputs": [
        {
          "output_type": "stream",
          "name": "stdout",
          "text": [
            "Generated Script:\n",
            "\n",
            "The scene opens with it tried to order let us in there in the light this in the tank environment nigel morning watcha up hoo keeps none hi dentist careful to happening problem you take a name of the ocean aaah he hasn't been headed this not gonna be too what not done life boy all right listen to the bottom of this not gonna get filthier and i'm a ocean just eggs leave 'em right right you are squirt so what was going on a shot and serve the same time of a tale i'll go go back go back go go go\n",
            "\n",
            "Do you want to save the script? (yes/no): yes\n",
            "Enter a file name to save the script (without extension): new\n",
            "Script saved successfully as new.txt!\n"
          ]
        }
      ]
    },
    {
      "cell_type": "code",
      "source": [
        "import random\n",
        "import numpy as np\n",
        "from tensorflow.keras.preprocessing.sequence import pad_sequences\n",
        "\n",
        "character_names = [\"Character A\", \"Character B\", \"Character C\"]\n",
        "\n",
        "def sample(predictions, temperature=1.0):\n",
        "    \"\"\"Helper function to sample an index from a probability array with temperature.\"\"\"\n",
        "    predictions = np.asarray(predictions).astype('float64')\n",
        "    predictions = np.log(np.clip(predictions, 1e-10, None)) / temperature  # Clip to avoid divide by zero\n",
        "    exp_preds = np.exp(predictions)\n",
        "    predictions = exp_preds / np.sum(exp_preds)\n",
        "    probas = np.random.multinomial(1, predictions, 1)\n",
        "    return np.argmax(probas)\n",
        "\n",
        "def generate_script_with_temperature(seed_text, next_words, max_sequence_len, temperature=0.8):\n",
        "    script = \"\"\n",
        "    current_character = random.choice(character_names)\n",
        "    script += current_character + \": \"  # Add character name\n",
        "\n",
        "    for _ in range(next_words):\n",
        "        token_list = tokenizer.texts_to_sequences([seed_text])[0]\n",
        "        token_list = pad_sequences([token_list], maxlen=max_sequence_len-1, padding='pre')\n",
        "        predictions = model.predict(token_list, verbose=0)[0]\n",
        "\n",
        "        # Use temperature sampling to select the next word\n",
        "        predicted_word_index = sample(predictions, temperature)\n",
        "\n",
        "        # Find the predicted word\n",
        "        output_word = \"\"\n",
        "        for word, index in tokenizer.word_index.items():\n",
        "            if index == predicted_word_index:\n",
        "                output_word = word\n",
        "                break\n",
        "\n",
        "        # If no valid word found, continue to the next iteration\n",
        "        if not output_word:\n",
        "            continue\n",
        "\n",
        "        # Switch character at sentence end or with 10% probability\n",
        "        if output_word in [\".\", \"!\", \"?\"] or random.random() < 0.1:\n",
        "            current_character = random.choice(character_names)\n",
        "            script += \"\\n\" + current_character + \": \"\n",
        "\n",
        "        # Add the predicted word to the script and update seed_text\n",
        "        seed_text += \" \" + output_word\n",
        "        script += \" \" + output_word\n",
        "\n",
        "    return script\n",
        "\n",
        "# Generate the script\n",
        "seed_text = \"last night\"\n",
        "next_words = 150\n",
        "max_sequence_len = 20  # Adjust based on your model's training data\n",
        "temperature = 0.8\n",
        "generated_script = generate_script_with_temperature(seed_text, next_words, max_sequence_len, temperature=temperature)\n",
        "\n",
        "print(\"Generated Script:\\n\")\n",
        "print(generated_script)\n",
        "\n",
        "# Ask if the user wants to save the script\n",
        "save_script = input(\"\\nDo you want to save the script? (yes/no): \").strip().lower()\n",
        "\n",
        "if save_script == 'yes':\n",
        "    # Define a file name and path\n",
        "    file_name = input(\"Enter a file name to save the script (without extension): \").strip()\n",
        "    file_path = f\"{file_name}.txt\"\n",
        "\n",
        "    # Save the script to a text file\n",
        "    with open(file_path, 'w', encoding='utf-8') as file:\n",
        "        file.write(generated_script)\n",
        "\n",
        "    print(f\"Script saved successfully as {file_path}!\")\n",
        "else:\n",
        "    print(\"Script not saved.\")\n"
      ],
      "metadata": {
        "colab": {
          "base_uri": "https://localhost:8080/"
        },
        "id": "7wQPg0JWihIq",
        "outputId": "e5c1add4-51ef-416d-9724-3cee5ef4f14e"
      },
      "execution_count": null,
      "outputs": [
        {
          "output_type": "stream",
          "name": "stdout",
          "text": [
            "Generated Script:\n",
            "\n",
            "Character C:  while we can't talk\n",
            "Character A:  this big horrible creature with razor sharp teeth nice parry old man unh hungry what i'd to touch the water's going the bo nemo gill kids what help the kids what did you wanted to get a best sobs now he's can help me to the lady nemo\n",
            "Character A:  can help yourself back to the ocean kid you\n",
            "Character A:  can do these doesn't get us a rock and that guy right by the whole\n",
            "Character A:  only\n",
            "Character A:  life wh it's not ready\n",
            "Character C:  careful ready transcript chuckles hungry hungry but excuse and\n",
            "Character A:  back it's and here where\n",
            "Character B:  i'm so dad no worries man mr turtle oww oww\n",
            "Character A:  be by by the species the jellies it we like it you i got\n",
            "Character B:  a father and a hook in a boat come\n",
            "Character A:  up nemo nemo nemo no no\n",
            "Character A:  no no no no no dad wait up whoa hey hey wait an fish on\n",
            "\n",
            "Do you want to save the script? (yes/no): yes\n",
            "Enter a file name to save the script (without extension): new1\n",
            "Script saved successfully as new1.txt!\n"
          ]
        }
      ]
    },
    {
      "cell_type": "markdown",
      "source": [
        "RNN"
      ],
      "metadata": {
        "id": "zrZQzIALii_d"
      }
    },
    {
      "cell_type": "code",
      "source": [
        "import tensorflow as tf\n",
        "from tensorflow.keras.models import Sequential\n",
        "from tensorflow.keras.layers import Embedding, SimpleRNN, Dense\n",
        "from tensorflow.keras.preprocessing.text import Tokenizer\n",
        "from tensorflow.keras.preprocessing.sequence import pad_sequences\n",
        "import numpy as np\n",
        "\n",
        "# Load and preprocess the text data\n",
        "with open('/content/file_938.txt', 'r') as f:\n",
        "    text = f.read()\n",
        "\n",
        "# Tokenize the text\n",
        "tokenizer = Tokenizer(num_words=10000)  # Set the vocabulary size (top 10,000 words)\n",
        "tokenizer.fit_on_texts([text])\n",
        "sequences = tokenizer.texts_to_sequences([text])[0]\n",
        "\n",
        "# Define the sequence length\n",
        "sequence_length = 50  # Adjust as needed based on your data\n",
        "\n",
        "# Prepare input sequences (X_data) and labels (y_data)\n",
        "sequences = [sequences[i:i + sequence_length] for i in range(0, len(sequences) - sequence_length)]\n",
        "X_data = [seq[:-1] for seq in sequences]  # Inputs: all except last token\n",
        "y_data = [seq[-1] for seq in sequences]  # Labels: last token (next word prediction)\n",
        "\n",
        "# Pad the sequences to ensure uniform length\n",
        "X_data = pad_sequences(X_data, maxlen=sequence_length-1, padding='pre')\n",
        "X_data = np.array(X_data)\n",
        "\n",
        "# Convert labels to one-hot encoding (for categorical crossentropy)\n",
        "y_data = np.array(y_data)\n",
        "y_data = tf.keras.utils.to_categorical(y_data, num_classes=10000)  # Change the number of classes to match your vocab size\n",
        "\n",
        "# Define the vocabulary size (number of unique words)\n",
        "vocab_size = 10000  # Same as num_words in Tokenizer\n",
        "embedding_dim = 64  # Embedding dimension\n",
        "rnn_units = 64  # Number of units in the RNN layer\n",
        "\n",
        "# Create the RNN model\n",
        "model = Sequential([\n",
        "    Embedding(vocab_size, embedding_dim, input_length=sequence_length-1),\n",
        "    SimpleRNN(rnn_units),  # Simple RNN layer\n",
        "    Dense(vocab_size, activation='softmax')  # Output layer: softmax for predicting next word\n",
        "])\n",
        "\n",
        "# Compile the model\n",
        "model.compile(loss='categorical_crossentropy', optimizer='adam', metrics=['accuracy'])\n",
        "\n",
        "# Train the model\n",
        "model.fit(X_data, y_data, epochs=50, batch_size=32, validation_split=0.2)  # Use validation_split for simplicity\n",
        "\n",
        "# Print the model summary\n",
        "model.summary()\n"
      ],
      "metadata": {
        "colab": {
          "base_uri": "https://localhost:8080/",
          "height": 1000
        },
        "id": "6SyRLSl4pNg1",
        "outputId": "fa43f618-9f64-4008-dbf9-530bdda5267e"
      },
      "execution_count": null,
      "outputs": [
        {
          "output_type": "stream",
          "name": "stdout",
          "text": [
            "Epoch 1/50\n",
            "\u001b[1m321/321\u001b[0m \u001b[32m━━━━━━━━━━━━━━━━━━━━\u001b[0m\u001b[37m\u001b[0m \u001b[1m13s\u001b[0m 36ms/step - accuracy: 0.0249 - loss: 7.4515 - val_accuracy: 0.0238 - val_loss: 6.5059\n",
            "Epoch 2/50\n",
            "\u001b[1m321/321\u001b[0m \u001b[32m━━━━━━━━━━━━━━━━━━━━\u001b[0m\u001b[37m\u001b[0m \u001b[1m19s\u001b[0m 32ms/step - accuracy: 0.0306 - loss: 6.1208 - val_accuracy: 0.0265 - val_loss: 6.5340\n",
            "Epoch 3/50\n",
            "\u001b[1m321/321\u001b[0m \u001b[32m━━━━━━━━━━━━━━━━━━━━\u001b[0m\u001b[37m\u001b[0m \u001b[1m10s\u001b[0m 31ms/step - accuracy: 0.0340 - loss: 5.9368 - val_accuracy: 0.0343 - val_loss: 6.5198\n",
            "Epoch 4/50\n",
            "\u001b[1m321/321\u001b[0m \u001b[32m━━━━━━━━━━━━━━━━━━━━\u001b[0m\u001b[37m\u001b[0m \u001b[1m11s\u001b[0m 35ms/step - accuracy: 0.0467 - loss: 5.7216 - val_accuracy: 0.0491 - val_loss: 6.5034\n",
            "Epoch 5/50\n",
            "\u001b[1m321/321\u001b[0m \u001b[32m━━━━━━━━━━━━━━━━━━━━\u001b[0m\u001b[37m\u001b[0m \u001b[1m21s\u001b[0m 37ms/step - accuracy: 0.0593 - loss: 5.5664 - val_accuracy: 0.0538 - val_loss: 6.4560\n",
            "Epoch 6/50\n",
            "\u001b[1m321/321\u001b[0m \u001b[32m━━━━━━━━━━━━━━━━━━━━\u001b[0m\u001b[37m\u001b[0m \u001b[1m11s\u001b[0m 33ms/step - accuracy: 0.0704 - loss: 5.3777 - val_accuracy: 0.0639 - val_loss: 6.4355\n",
            "Epoch 7/50\n",
            "\u001b[1m321/321\u001b[0m \u001b[32m━━━━━━━━━━━━━━━━━━━━\u001b[0m\u001b[37m\u001b[0m \u001b[1m21s\u001b[0m 36ms/step - accuracy: 0.0895 - loss: 5.1935 - val_accuracy: 0.0674 - val_loss: 6.4965\n",
            "Epoch 8/50\n",
            "\u001b[1m321/321\u001b[0m \u001b[32m━━━━━━━━━━━━━━━━━━━━\u001b[0m\u001b[37m\u001b[0m \u001b[1m20s\u001b[0m 36ms/step - accuracy: 0.1054 - loss: 5.0471 - val_accuracy: 0.0686 - val_loss: 6.5019\n",
            "Epoch 9/50\n",
            "\u001b[1m321/321\u001b[0m \u001b[32m━━━━━━━━━━━━━━━━━━━━\u001b[0m\u001b[37m\u001b[0m \u001b[1m20s\u001b[0m 35ms/step - accuracy: 0.1188 - loss: 4.8626 - val_accuracy: 0.0834 - val_loss: 6.5305\n",
            "Epoch 10/50\n",
            "\u001b[1m321/321\u001b[0m \u001b[32m━━━━━━━━━━━━━━━━━━━━\u001b[0m\u001b[37m\u001b[0m \u001b[1m21s\u001b[0m 36ms/step - accuracy: 0.1204 - loss: 4.7087 - val_accuracy: 0.0880 - val_loss: 6.5521\n",
            "Epoch 11/50\n",
            "\u001b[1m321/321\u001b[0m \u001b[32m━━━━━━━━━━━━━━━━━━━━\u001b[0m\u001b[37m\u001b[0m \u001b[1m10s\u001b[0m 32ms/step - accuracy: 0.1395 - loss: 4.5576 - val_accuracy: 0.0900 - val_loss: 6.6087\n",
            "Epoch 12/50\n",
            "\u001b[1m321/321\u001b[0m \u001b[32m━━━━━━━━━━━━━━━━━━━━\u001b[0m\u001b[37m\u001b[0m \u001b[1m11s\u001b[0m 34ms/step - accuracy: 0.1560 - loss: 4.4077 - val_accuracy: 0.0841 - val_loss: 6.6455\n",
            "Epoch 13/50\n",
            "\u001b[1m321/321\u001b[0m \u001b[32m━━━━━━━━━━━━━━━━━━━━\u001b[0m\u001b[37m\u001b[0m \u001b[1m11s\u001b[0m 36ms/step - accuracy: 0.1735 - loss: 4.2714 - val_accuracy: 0.0951 - val_loss: 6.6905\n",
            "Epoch 14/50\n",
            "\u001b[1m321/321\u001b[0m \u001b[32m━━━━━━━━━━━━━━━━━━━━\u001b[0m\u001b[37m\u001b[0m \u001b[1m11s\u001b[0m 35ms/step - accuracy: 0.1924 - loss: 4.0873 - val_accuracy: 0.0962 - val_loss: 6.7211\n",
            "Epoch 15/50\n",
            "\u001b[1m321/321\u001b[0m \u001b[32m━━━━━━━━━━━━━━━━━━━━\u001b[0m\u001b[37m\u001b[0m \u001b[1m20s\u001b[0m 32ms/step - accuracy: 0.2132 - loss: 3.9632 - val_accuracy: 0.0923 - val_loss: 6.7917\n",
            "Epoch 16/50\n",
            "\u001b[1m321/321\u001b[0m \u001b[32m━━━━━━━━━━━━━━━━━━━━\u001b[0m\u001b[37m\u001b[0m \u001b[1m11s\u001b[0m 33ms/step - accuracy: 0.2253 - loss: 3.8192 - val_accuracy: 0.0939 - val_loss: 6.8323\n",
            "Epoch 17/50\n",
            "\u001b[1m321/321\u001b[0m \u001b[32m━━━━━━━━━━━━━━━━━━━━\u001b[0m\u001b[37m\u001b[0m \u001b[1m21s\u001b[0m 35ms/step - accuracy: 0.2521 - loss: 3.7067 - val_accuracy: 0.0919 - val_loss: 6.8879\n",
            "Epoch 18/50\n",
            "\u001b[1m321/321\u001b[0m \u001b[32m━━━━━━━━━━━━━━━━━━━━\u001b[0m\u001b[37m\u001b[0m \u001b[1m12s\u001b[0m 36ms/step - accuracy: 0.2786 - loss: 3.5380 - val_accuracy: 0.0943 - val_loss: 6.9703\n",
            "Epoch 19/50\n",
            "\u001b[1m321/321\u001b[0m \u001b[32m━━━━━━━━━━━━━━━━━━━━\u001b[0m\u001b[37m\u001b[0m \u001b[1m12s\u001b[0m 39ms/step - accuracy: 0.3042 - loss: 3.4028 - val_accuracy: 0.0947 - val_loss: 7.0407\n",
            "Epoch 20/50\n",
            "\u001b[1m321/321\u001b[0m \u001b[32m━━━━━━━━━━━━━━━━━━━━\u001b[0m\u001b[37m\u001b[0m \u001b[1m10s\u001b[0m 31ms/step - accuracy: 0.3290 - loss: 3.2692 - val_accuracy: 0.0962 - val_loss: 7.1038\n",
            "Epoch 21/50\n",
            "\u001b[1m321/321\u001b[0m \u001b[32m━━━━━━━━━━━━━━━━━━━━\u001b[0m\u001b[37m\u001b[0m \u001b[1m12s\u001b[0m 36ms/step - accuracy: 0.3436 - loss: 3.1895 - val_accuracy: 0.0931 - val_loss: 7.1416\n",
            "Epoch 22/50\n",
            "\u001b[1m321/321\u001b[0m \u001b[32m━━━━━━━━━━━━━━━━━━━━\u001b[0m\u001b[37m\u001b[0m \u001b[1m12s\u001b[0m 36ms/step - accuracy: 0.3657 - loss: 3.0518 - val_accuracy: 0.0892 - val_loss: 7.2354\n",
            "Epoch 23/50\n",
            "\u001b[1m321/321\u001b[0m \u001b[32m━━━━━━━━━━━━━━━━━━━━\u001b[0m\u001b[37m\u001b[0m \u001b[1m21s\u001b[0m 37ms/step - accuracy: 0.3807 - loss: 2.9708 - val_accuracy: 0.0951 - val_loss: 7.2981\n",
            "Epoch 24/50\n",
            "\u001b[1m321/321\u001b[0m \u001b[32m━━━━━━━━━━━━━━━━━━━━\u001b[0m\u001b[37m\u001b[0m \u001b[1m11s\u001b[0m 34ms/step - accuracy: 0.4056 - loss: 2.8212 - val_accuracy: 0.0923 - val_loss: 7.3418\n",
            "Epoch 25/50\n",
            "\u001b[1m321/321\u001b[0m \u001b[32m━━━━━━━━━━━━━━━━━━━━\u001b[0m\u001b[37m\u001b[0m \u001b[1m22s\u001b[0m 39ms/step - accuracy: 0.4342 - loss: 2.7179 - val_accuracy: 0.0923 - val_loss: 7.3920\n",
            "Epoch 26/50\n",
            "\u001b[1m321/321\u001b[0m \u001b[32m━━━━━━━━━━━━━━━━━━━━\u001b[0m\u001b[37m\u001b[0m \u001b[1m21s\u001b[0m 40ms/step - accuracy: 0.4473 - loss: 2.6421 - val_accuracy: 0.0943 - val_loss: 7.4470\n",
            "Epoch 27/50\n",
            "\u001b[1m321/321\u001b[0m \u001b[32m━━━━━━━━━━━━━━━━━━━━\u001b[0m\u001b[37m\u001b[0m \u001b[1m11s\u001b[0m 35ms/step - accuracy: 0.4565 - loss: 2.5807 - val_accuracy: 0.0884 - val_loss: 7.5493\n",
            "Epoch 28/50\n",
            "\u001b[1m321/321\u001b[0m \u001b[32m━━━━━━━━━━━━━━━━━━━━\u001b[0m\u001b[37m\u001b[0m \u001b[1m21s\u001b[0m 38ms/step - accuracy: 0.4761 - loss: 2.4638 - val_accuracy: 0.0931 - val_loss: 7.5928\n",
            "Epoch 29/50\n",
            "\u001b[1m321/321\u001b[0m \u001b[32m━━━━━━━━━━━━━━━━━━━━\u001b[0m\u001b[37m\u001b[0m \u001b[1m12s\u001b[0m 37ms/step - accuracy: 0.4970 - loss: 2.3984 - val_accuracy: 0.0900 - val_loss: 7.6368\n",
            "Epoch 30/50\n",
            "\u001b[1m321/321\u001b[0m \u001b[32m━━━━━━━━━━━━━━━━━━━━\u001b[0m\u001b[37m\u001b[0m \u001b[1m19s\u001b[0m 34ms/step - accuracy: 0.5141 - loss: 2.3081 - val_accuracy: 0.0923 - val_loss: 7.7159\n",
            "Epoch 31/50\n",
            "\u001b[1m321/321\u001b[0m \u001b[32m━━━━━━━━━━━━━━━━━━━━\u001b[0m\u001b[37m\u001b[0m \u001b[1m11s\u001b[0m 35ms/step - accuracy: 0.5254 - loss: 2.2328 - val_accuracy: 0.0904 - val_loss: 7.7592\n",
            "Epoch 32/50\n",
            "\u001b[1m321/321\u001b[0m \u001b[32m━━━━━━━━━━━━━━━━━━━━\u001b[0m\u001b[37m\u001b[0m \u001b[1m21s\u001b[0m 37ms/step - accuracy: 0.5455 - loss: 2.1560 - val_accuracy: 0.0841 - val_loss: 7.8169\n",
            "Epoch 33/50\n",
            "\u001b[1m321/321\u001b[0m \u001b[32m━━━━━━━━━━━━━━━━━━━━\u001b[0m\u001b[37m\u001b[0m \u001b[1m12s\u001b[0m 37ms/step - accuracy: 0.5611 - loss: 2.0786 - val_accuracy: 0.0869 - val_loss: 7.8663\n",
            "Epoch 34/50\n",
            "\u001b[1m321/321\u001b[0m \u001b[32m━━━━━━━━━━━━━━━━━━━━\u001b[0m\u001b[37m\u001b[0m \u001b[1m11s\u001b[0m 36ms/step - accuracy: 0.5667 - loss: 2.0108 - val_accuracy: 0.0865 - val_loss: 7.9432\n",
            "Epoch 35/50\n",
            "\u001b[1m321/321\u001b[0m \u001b[32m━━━━━━━━━━━━━━━━━━━━\u001b[0m\u001b[37m\u001b[0m \u001b[1m21s\u001b[0m 37ms/step - accuracy: 0.5870 - loss: 1.9469 - val_accuracy: 0.0857 - val_loss: 7.9861\n",
            "Epoch 36/50\n",
            "\u001b[1m321/321\u001b[0m \u001b[32m━━━━━━━━━━━━━━━━━━━━\u001b[0m\u001b[37m\u001b[0m \u001b[1m20s\u001b[0m 37ms/step - accuracy: 0.5995 - loss: 1.8949 - val_accuracy: 0.0838 - val_loss: 8.0520\n",
            "Epoch 37/50\n",
            "\u001b[1m321/321\u001b[0m \u001b[32m━━━━━━━━━━━━━━━━━━━━\u001b[0m\u001b[37m\u001b[0m \u001b[1m21s\u001b[0m 38ms/step - accuracy: 0.6109 - loss: 1.8287 - val_accuracy: 0.0861 - val_loss: 8.1041\n",
            "Epoch 38/50\n",
            "\u001b[1m321/321\u001b[0m \u001b[32m━━━━━━━━━━━━━━━━━━━━\u001b[0m\u001b[37m\u001b[0m \u001b[1m13s\u001b[0m 39ms/step - accuracy: 0.6257 - loss: 1.7712 - val_accuracy: 0.0834 - val_loss: 8.1778\n",
            "Epoch 39/50\n",
            "\u001b[1m321/321\u001b[0m \u001b[32m━━━━━━━━━━━━━━━━━━━━\u001b[0m\u001b[37m\u001b[0m \u001b[1m12s\u001b[0m 37ms/step - accuracy: 0.6301 - loss: 1.7383 - val_accuracy: 0.0822 - val_loss: 8.2416\n",
            "Epoch 40/50\n",
            "\u001b[1m321/321\u001b[0m \u001b[32m━━━━━━━━━━━━━━━━━━━━\u001b[0m\u001b[37m\u001b[0m \u001b[1m20s\u001b[0m 34ms/step - accuracy: 0.6420 - loss: 1.6714 - val_accuracy: 0.0822 - val_loss: 8.2812\n",
            "Epoch 41/50\n",
            "\u001b[1m321/321\u001b[0m \u001b[32m━━━━━━━━━━━━━━━━━━━━\u001b[0m\u001b[37m\u001b[0m \u001b[1m22s\u001b[0m 39ms/step - accuracy: 0.6535 - loss: 1.6303 - val_accuracy: 0.0810 - val_loss: 8.3497\n",
            "Epoch 42/50\n",
            "\u001b[1m321/321\u001b[0m \u001b[32m━━━━━━━━━━━━━━━━━━━━\u001b[0m\u001b[37m\u001b[0m \u001b[1m20s\u001b[0m 38ms/step - accuracy: 0.6651 - loss: 1.5778 - val_accuracy: 0.0818 - val_loss: 8.4143\n",
            "Epoch 43/50\n",
            "\u001b[1m321/321\u001b[0m \u001b[32m━━━━━━━━━━━━━━━━━━━━\u001b[0m\u001b[37m\u001b[0m \u001b[1m11s\u001b[0m 35ms/step - accuracy: 0.6834 - loss: 1.5114 - val_accuracy: 0.0810 - val_loss: 8.4654\n",
            "Epoch 44/50\n",
            "\u001b[1m321/321\u001b[0m \u001b[32m━━━━━━━━━━━━━━━━━━━━\u001b[0m\u001b[37m\u001b[0m \u001b[1m12s\u001b[0m 36ms/step - accuracy: 0.6814 - loss: 1.4926 - val_accuracy: 0.0771 - val_loss: 8.5331\n",
            "Epoch 45/50\n",
            "\u001b[1m321/321\u001b[0m \u001b[32m━━━━━━━━━━━━━━━━━━━━\u001b[0m\u001b[37m\u001b[0m \u001b[1m13s\u001b[0m 40ms/step - accuracy: 0.6990 - loss: 1.4422 - val_accuracy: 0.0787 - val_loss: 8.5594\n",
            "Epoch 46/50\n",
            "\u001b[1m321/321\u001b[0m \u001b[32m━━━━━━━━━━━━━━━━━━━━\u001b[0m\u001b[37m\u001b[0m \u001b[1m20s\u001b[0m 38ms/step - accuracy: 0.6939 - loss: 1.4165 - val_accuracy: 0.0771 - val_loss: 8.6175\n",
            "Epoch 47/50\n",
            "\u001b[1m321/321\u001b[0m \u001b[32m━━━━━━━━━━━━━━━━━━━━\u001b[0m\u001b[37m\u001b[0m \u001b[1m21s\u001b[0m 39ms/step - accuracy: 0.7199 - loss: 1.3401 - val_accuracy: 0.0771 - val_loss: 8.6516\n",
            "Epoch 48/50\n",
            "\u001b[1m321/321\u001b[0m \u001b[32m━━━━━━━━━━━━━━━━━━━━\u001b[0m\u001b[37m\u001b[0m \u001b[1m20s\u001b[0m 39ms/step - accuracy: 0.7130 - loss: 1.3398 - val_accuracy: 0.0806 - val_loss: 8.7260\n",
            "Epoch 49/50\n",
            "\u001b[1m321/321\u001b[0m \u001b[32m━━━━━━━━━━━━━━━━━━━━\u001b[0m\u001b[37m\u001b[0m \u001b[1m12s\u001b[0m 39ms/step - accuracy: 0.7230 - loss: 1.3043 - val_accuracy: 0.0791 - val_loss: 8.7763\n",
            "Epoch 50/50\n",
            "\u001b[1m321/321\u001b[0m \u001b[32m━━━━━━━━━━━━━━━━━━━━\u001b[0m\u001b[37m\u001b[0m \u001b[1m11s\u001b[0m 35ms/step - accuracy: 0.7359 - loss: 1.2561 - val_accuracy: 0.0740 - val_loss: 8.8298\n"
          ]
        },
        {
          "output_type": "display_data",
          "data": {
            "text/plain": [
              "\u001b[1mModel: \"sequential_16\"\u001b[0m\n"
            ],
            "text/html": [
              "<pre style=\"white-space:pre;overflow-x:auto;line-height:normal;font-family:Menlo,'DejaVu Sans Mono',consolas,'Courier New',monospace\"><span style=\"font-weight: bold\">Model: \"sequential_16\"</span>\n",
              "</pre>\n"
            ]
          },
          "metadata": {}
        },
        {
          "output_type": "display_data",
          "data": {
            "text/plain": [
              "┏━━━━━━━━━━━━━━━━━━━━━━━━━━━━━━━━━━━━━━┳━━━━━━━━━━━━━━━━━━━━━━━━━━━━━┳━━━━━━━━━━━━━━━━━┓\n",
              "┃\u001b[1m \u001b[0m\u001b[1mLayer (type)                        \u001b[0m\u001b[1m \u001b[0m┃\u001b[1m \u001b[0m\u001b[1mOutput Shape               \u001b[0m\u001b[1m \u001b[0m┃\u001b[1m \u001b[0m\u001b[1m        Param #\u001b[0m\u001b[1m \u001b[0m┃\n",
              "┡━━━━━━━━━━━━━━━━━━━━━━━━━━━━━━━━━━━━━━╇━━━━━━━━━━━━━━━━━━━━━━━━━━━━━╇━━━━━━━━━━━━━━━━━┩\n",
              "│ embedding_16 (\u001b[38;5;33mEmbedding\u001b[0m)             │ (\u001b[38;5;45mNone\u001b[0m, \u001b[38;5;34m49\u001b[0m, \u001b[38;5;34m64\u001b[0m)              │         \u001b[38;5;34m640,000\u001b[0m │\n",
              "├──────────────────────────────────────┼─────────────────────────────┼─────────────────┤\n",
              "│ simple_rnn_2 (\u001b[38;5;33mSimpleRNN\u001b[0m)             │ (\u001b[38;5;45mNone\u001b[0m, \u001b[38;5;34m64\u001b[0m)                  │           \u001b[38;5;34m8,256\u001b[0m │\n",
              "├──────────────────────────────────────┼─────────────────────────────┼─────────────────┤\n",
              "│ dense_16 (\u001b[38;5;33mDense\u001b[0m)                     │ (\u001b[38;5;45mNone\u001b[0m, \u001b[38;5;34m10000\u001b[0m)               │         \u001b[38;5;34m650,000\u001b[0m │\n",
              "└──────────────────────────────────────┴─────────────────────────────┴─────────────────┘\n"
            ],
            "text/html": [
              "<pre style=\"white-space:pre;overflow-x:auto;line-height:normal;font-family:Menlo,'DejaVu Sans Mono',consolas,'Courier New',monospace\">┏━━━━━━━━━━━━━━━━━━━━━━━━━━━━━━━━━━━━━━┳━━━━━━━━━━━━━━━━━━━━━━━━━━━━━┳━━━━━━━━━━━━━━━━━┓\n",
              "┃<span style=\"font-weight: bold\"> Layer (type)                         </span>┃<span style=\"font-weight: bold\"> Output Shape                </span>┃<span style=\"font-weight: bold\">         Param # </span>┃\n",
              "┡━━━━━━━━━━━━━━━━━━━━━━━━━━━━━━━━━━━━━━╇━━━━━━━━━━━━━━━━━━━━━━━━━━━━━╇━━━━━━━━━━━━━━━━━┩\n",
              "│ embedding_16 (<span style=\"color: #0087ff; text-decoration-color: #0087ff\">Embedding</span>)             │ (<span style=\"color: #00d7ff; text-decoration-color: #00d7ff\">None</span>, <span style=\"color: #00af00; text-decoration-color: #00af00\">49</span>, <span style=\"color: #00af00; text-decoration-color: #00af00\">64</span>)              │         <span style=\"color: #00af00; text-decoration-color: #00af00\">640,000</span> │\n",
              "├──────────────────────────────────────┼─────────────────────────────┼─────────────────┤\n",
              "│ simple_rnn_2 (<span style=\"color: #0087ff; text-decoration-color: #0087ff\">SimpleRNN</span>)             │ (<span style=\"color: #00d7ff; text-decoration-color: #00d7ff\">None</span>, <span style=\"color: #00af00; text-decoration-color: #00af00\">64</span>)                  │           <span style=\"color: #00af00; text-decoration-color: #00af00\">8,256</span> │\n",
              "├──────────────────────────────────────┼─────────────────────────────┼─────────────────┤\n",
              "│ dense_16 (<span style=\"color: #0087ff; text-decoration-color: #0087ff\">Dense</span>)                     │ (<span style=\"color: #00d7ff; text-decoration-color: #00d7ff\">None</span>, <span style=\"color: #00af00; text-decoration-color: #00af00\">10000</span>)               │         <span style=\"color: #00af00; text-decoration-color: #00af00\">650,000</span> │\n",
              "└──────────────────────────────────────┴─────────────────────────────┴─────────────────┘\n",
              "</pre>\n"
            ]
          },
          "metadata": {}
        },
        {
          "output_type": "display_data",
          "data": {
            "text/plain": [
              "\u001b[1m Total params: \u001b[0m\u001b[38;5;34m3,894,770\u001b[0m (14.86 MB)\n"
            ],
            "text/html": [
              "<pre style=\"white-space:pre;overflow-x:auto;line-height:normal;font-family:Menlo,'DejaVu Sans Mono',consolas,'Courier New',monospace\"><span style=\"font-weight: bold\"> Total params: </span><span style=\"color: #00af00; text-decoration-color: #00af00\">3,894,770</span> (14.86 MB)\n",
              "</pre>\n"
            ]
          },
          "metadata": {}
        },
        {
          "output_type": "display_data",
          "data": {
            "text/plain": [
              "\u001b[1m Trainable params: \u001b[0m\u001b[38;5;34m1,298,256\u001b[0m (4.95 MB)\n"
            ],
            "text/html": [
              "<pre style=\"white-space:pre;overflow-x:auto;line-height:normal;font-family:Menlo,'DejaVu Sans Mono',consolas,'Courier New',monospace\"><span style=\"font-weight: bold\"> Trainable params: </span><span style=\"color: #00af00; text-decoration-color: #00af00\">1,298,256</span> (4.95 MB)\n",
              "</pre>\n"
            ]
          },
          "metadata": {}
        },
        {
          "output_type": "display_data",
          "data": {
            "text/plain": [
              "\u001b[1m Non-trainable params: \u001b[0m\u001b[38;5;34m0\u001b[0m (0.00 B)\n"
            ],
            "text/html": [
              "<pre style=\"white-space:pre;overflow-x:auto;line-height:normal;font-family:Menlo,'DejaVu Sans Mono',consolas,'Courier New',monospace\"><span style=\"font-weight: bold\"> Non-trainable params: </span><span style=\"color: #00af00; text-decoration-color: #00af00\">0</span> (0.00 B)\n",
              "</pre>\n"
            ]
          },
          "metadata": {}
        },
        {
          "output_type": "display_data",
          "data": {
            "text/plain": [
              "\u001b[1m Optimizer params: \u001b[0m\u001b[38;5;34m2,596,514\u001b[0m (9.90 MB)\n"
            ],
            "text/html": [
              "<pre style=\"white-space:pre;overflow-x:auto;line-height:normal;font-family:Menlo,'DejaVu Sans Mono',consolas,'Courier New',monospace\"><span style=\"font-weight: bold\"> Optimizer params: </span><span style=\"color: #00af00; text-decoration-color: #00af00\">2,596,514</span> (9.90 MB)\n",
              "</pre>\n"
            ]
          },
          "metadata": {}
        }
      ]
    },
    {
      "cell_type": "code",
      "source": [
        "import os\n",
        "\n",
        "def generate_script(seed_text, next_words, max_sequence_len):\n",
        "    for _ in range(next_words):\n",
        "        token_list = tokenizer.texts_to_sequences([seed_text])[0]\n",
        "        token_list = pad_sequences([token_list], maxlen=max_sequence_len-1, padding='pre')\n",
        "        predicted = model.predict(token_list, verbose=0)\n",
        "        predicted_word_index = np.argmax(predicted, axis=-1)[0]\n",
        "        output_word = \"\"\n",
        "        for word, index in tokenizer.word_index.items():\n",
        "            if index == predicted_word_index:\n",
        "                output_word = word\n",
        "                break\n",
        "        seed_text += \" \" + output_word\n",
        "    return seed_text\n",
        "\n",
        "# Generate movie script using a seed text\n",
        "seed_text = \"The scene opens with\"\n",
        "next_words = 100\n",
        "generated_script = generate_script(seed_text, next_words, max_sequence_len)\n",
        "\n",
        "# Print the generated script\n",
        "print(\"Generated Script:\\n\")\n",
        "print(generated_script)\n",
        "\n",
        "# Ask if the user wants to save the script\n",
        "save_script = input(\"\\nDo you want to save the script? (yes/no): \").strip().lower()\n",
        "\n",
        "if save_script == 'yes':\n",
        "    # Define a file name and path\n",
        "    file_name = input(\"Enter a file name to save the script (without extension): \").strip()\n",
        "    file_path = f\"{file_name}.txt\"\n",
        "\n",
        "    # Save the script to a text file\n",
        "    with open(file_path, 'w', encoding='utf-8') as file:\n",
        "        file.write(generated_script)\n",
        "\n",
        "    print(f\"Script saved successfully as {file_path}!\")\n",
        "else:\n",
        "    print(\"Script not saved.\")\n"
      ],
      "metadata": {
        "colab": {
          "base_uri": "https://localhost:8080/"
        },
        "id": "kC6HjXnmp-XH",
        "outputId": "1ffd9bfc-5590-4073-fec2-e87da78b361f"
      },
      "execution_count": null,
      "outputs": [
        {
          "output_type": "stream",
          "name": "stdout",
          "text": [
            "Generated Script:\n",
            "\n",
            "The scene opens with him help me gill okay please dude ooh crush okay squirt here marlin ooooh crush we're not looking at you okay to get to him belch gill good work i shall resist gill good work i shall resist gill good daddy that he he i know we're not get out dory yeah gill that's it is just swim old are you are you can do i don't know but whatever you go where i'm gonna get you i'm gonna be hey hey you can you again nemo no no no no no no no no no no no no no\n",
            "\n",
            "Do you want to save the script? (yes/no): no\n",
            "Script not saved.\n"
          ]
        }
      ]
    },
    {
      "cell_type": "code",
      "source": [
        "import random\n",
        "import numpy as np\n",
        "from tensorflow.keras.preprocessing.sequence import pad_sequences\n",
        "\n",
        "character_names = [\"Character A\", \"Character B\", \"Character C\"]\n",
        "\n",
        "def sample(predictions, temperature=1.0):\n",
        "    \"\"\"Helper function to sample an index from a probability array with temperature.\"\"\"\n",
        "    predictions = np.asarray(predictions).astype('float64')\n",
        "    predictions = np.log(np.clip(predictions, 1e-10, None)) / temperature  # Clip to avoid divide by zero\n",
        "    exp_preds = np.exp(predictions)\n",
        "    predictions = exp_preds / np.sum(exp_preds)\n",
        "    probas = np.random.multinomial(1, predictions, 1)\n",
        "    return np.argmax(probas)\n",
        "\n",
        "def generate_script_with_temperature(seed_text, next_words, max_sequence_len, temperature=0.8):\n",
        "    script = \"\"\n",
        "    current_character = random.choice(character_names)\n",
        "    script += current_character + \": \"  # Add character name\n",
        "\n",
        "    for _ in range(next_words):\n",
        "        token_list = tokenizer.texts_to_sequences([seed_text])[0]\n",
        "        token_list = pad_sequences([token_list], maxlen=max_sequence_len-1, padding='pre')\n",
        "        predictions = model.predict(token_list, verbose=0)[0]\n",
        "\n",
        "        # Use temperature sampling to select the next word\n",
        "        predicted_word_index = sample(predictions, temperature)\n",
        "\n",
        "        # Find the predicted word\n",
        "        output_word = \"\"\n",
        "        for word, index in tokenizer.word_index.items():\n",
        "            if index == predicted_word_index:\n",
        "                output_word = word\n",
        "                break\n",
        "\n",
        "        # If no valid word found, continue to the next iteration\n",
        "        if not output_word:\n",
        "            continue\n",
        "\n",
        "        # Switch character at sentence end or with 10% probability\n",
        "        if output_word in [\".\", \"!\", \"?\"] or random.random() < 0.1:\n",
        "            current_character = random.choice(character_names)\n",
        "            script += \"\\n\" + current_character + \": \"\n",
        "\n",
        "        # Add the predicted word to the script and update seed_text\n",
        "        seed_text += \" \" + output_word\n",
        "        script += \" \" + output_word\n",
        "\n",
        "    return script\n",
        "\n",
        "# Generate the script\n",
        "seed_text = \"last night\"\n",
        "next_words = 150\n",
        "max_sequence_len = 20  # Adjust based on your model's training data\n",
        "temperature = 0.8\n",
        "generated_script = generate_script_with_temperature(seed_text, next_words, max_sequence_len, temperature=temperature)\n",
        "\n",
        "print(\"Generated Script:\\n\")\n",
        "print(generated_script)\n",
        "\n",
        "# Ask if the user wants to save the script\n",
        "save_script = input(\"\\nDo you want to save the script? (yes/no): \").strip().lower()\n",
        "\n",
        "if save_script == 'yes':\n",
        "    # Define a file name and path\n",
        "    file_name = input(\"Enter a file name to save the script (without extension): \").strip()\n",
        "    file_path = f\"{file_name}.txt\"\n",
        "\n",
        "    # Save the script to a text file\n",
        "    with open(file_path, 'w', encoding='utf-8') as file:\n",
        "        file.write(generated_script)\n",
        "\n",
        "    print(f\"Script saved successfully as {file_path}!\")\n",
        "else:\n",
        "    print(\"Script not saved.\")\n"
      ],
      "metadata": {
        "colab": {
          "base_uri": "https://localhost:8080/"
        },
        "id": "GA_fkwbgp-6f",
        "outputId": "8bdb7588-e5e9-44fb-dd96-a6f499c7a6e8"
      },
      "execution_count": null,
      "outputs": [
        {
          "output_type": "stream",
          "name": "stdout",
          "text": [
            "Generated Script:\n",
            "\n",
            "Character C:  one\n",
            "Character B:  did we pick it up come on him\n",
            "Character B:  grab sydney happy i just wanna\n",
            "Character A:  be yeah but i was mad out here these funny thing you wanted to go through you help you dory nemo no no no no they're right now dory okay has ho ha ha ha ha fish oh oh ah boy no no he's like a light\n",
            "Character C:  marlin well listen it in this thing we should death\n",
            "Character A:  do you doing a little one at they bump into small fish three ferocious three anchor us to be\n",
            "Character C:  here together hello i'm sorry i didn't think you what up you're scared of the ocean aaah\n",
            "Character B:  it's said you gotta have a great who can do you feel a little one of they're nose one of your escape nigel gill are you crush hundred and fifty moonfish leader after no he's swimming marlin it's ask nemo nemo can\n",
            "\n",
            "Do you want to save the script? (yes/no): no\n",
            "Script not saved.\n"
          ]
        }
      ]
    },
    {
      "cell_type": "markdown",
      "source": [
        "Accuracy, f1 score and confusion matrix"
      ],
      "metadata": {
        "id": "OHgnZq1ekLmQ"
      }
    },
    {
      "cell_type": "code",
      "source": [
        "import matplotlib.pyplot as plt\n",
        "\n",
        "# Model names and their corresponding accuracy scores\n",
        "models = ['LSTM', 'RNN']\n",
        "accuracies = [80.27, 73.59]\n",
        "\n",
        "# Plotting the bar chart\n",
        "plt.figure(figsize=(6, 5))\n",
        "plt.bar(models, accuracies, color=['blue', 'red'])\n",
        "plt.xlabel('Model')\n",
        "plt.ylabel('Accuracy (%)')\n",
        "plt.title('Model Accuracy Comparison')\n",
        "plt.ylim(10, 90)  # Accuracy range from 0 to 100%\n",
        "\n",
        "# Display the plot\n",
        "plt.show()\n",
        "\n",
        "\n",
        "\n",
        "import matplotlib.pyplot as plt\n",
        "\n",
        "# Model names and their corresponding loss values\n",
        "models = ['LSTM', 'RNN']\n",
        "loss = [0.9531, 1.2561]\n",
        "\n",
        "# Plotting the bar chart\n",
        "plt.figure(figsize=(6, 5))\n",
        "plt.bar(models, loss, color=['blue', 'red'])\n",
        "plt.xlabel('Model')\n",
        "plt.ylabel('Loss')\n",
        "plt.title('Model Loss Comparison')\n",
        "plt.ylim(0, 2)  # Adjust the y-axis range as needed\n",
        "\n",
        "# Display the plot\n",
        "plt.show()\n",
        "\n",
        "\n"
      ],
      "metadata": {
        "colab": {
          "base_uri": "https://localhost:8080/",
          "height": 957
        },
        "id": "9pPlDkhUGixB",
        "outputId": "17800831-304a-42e0-911e-ef8ff60a25dc"
      },
      "execution_count": null,
      "outputs": [
        {
          "output_type": "display_data",
          "data": {
            "text/plain": [
              "<Figure size 600x500 with 1 Axes>"
            ],
            "image/png": "[encoded data removed]"
          },
          "metadata": {}
        },
        {
          "output_type": "display_data",
          "data": {
            "text/plain": [
              "<Figure size 600x500 with 1 Axes>"
            ],
            "image/png": "[encoded data removed]"
          },
          "metadata": {}
        }
      ]
    },
    {
      "cell_type": "code",
      "source": [
        "import numpy as np\n",
        "import matplotlib.pyplot as plt\n",
        "from sklearn.metrics import confusion_matrix, classification_report, accuracy_score, f1_score, precision_score, recall_score\n",
        "import seaborn as sns\n"
      ],
      "metadata": {
        "id": "WpifouyiHrTl"
      },
      "execution_count": null,
      "outputs": []
    },
    {
      "cell_type": "code",
      "source": [
        "import matplotlib.pyplot as plt\n",
        "\n",
        "# Example data (replace these with your actual accuracy lists)\n",
        "# LSTM model accuracy per epoch (replace with actual data)\n",
        "lstm_train_acc = [0.7653, 0.7757, 0.7686, 0.7885, 0.8027]\n",
        "lstm_val_acc = [0.1187, 0.1196, 0.1134, 0.1119, 0.1150]\n",
        "\n",
        "# RNN  model accuracy per epoch (replace with actual data)\n",
        "rnn_train_acc = [0.6939, 0.7199, 0.7130, 0.7230, 0.7359]\n",
        "rnn_val_acc = [0.0771, 0.0771, 0.0806, 0.0791, 0.0740]\n",
        "\n",
        "# Plotting\n",
        "epochs = range(1, len(lstm_train_acc) + 1)\n",
        "\n",
        "plt.figure(figsize=(10, 6))\n",
        "# LSTM model plots\n",
        "plt.plot(epochs, lstm_train_acc, 'b-', label='LSTM Training Accuracy')\n",
        "plt.plot(epochs, lstm_val_acc, 'b--', label='LSTM Validation Accuracy')\n",
        "\n",
        "# GRU model plots\n",
        "plt.plot(epochs, rnn_train_acc, 'g-', label='RNN Training Accuracy') # Changed RNN_train_acc to rnn_train_acc\n",
        "plt.plot(epochs, rnn_val_acc, 'g--', label='RNN Validation Accuracy')\n",
        "\n",
        "# Labels and Title\n",
        "plt.xlabel('Epochs')\n",
        "plt.ylabel('Accuracy')\n",
        "plt.title('Training and Validation Accuracy for LSTM and RNN Models')\n",
        "plt.legend()\n",
        "plt.grid(True)\n",
        "plt.show()"
      ],
      "metadata": {
        "colab": {
          "base_uri": "https://localhost:8080/",
          "height": 519
        },
        "id": "YxETTUqcQoB6",
        "outputId": "20054aea-099a-4e48-ae2f-fb7fdd9f7f5b"
      },
      "execution_count": null,
      "outputs": [
        {
          "output_type": "display_data",
          "data": {
            "text/plain": [
              "<Figure size 1000x600 with 1 Axes>"
            ],
            "image/png": "[encoded data removed]"
          },
          "metadata": {}
        }
      ]
    },
    {
      "cell_type": "code",
      "source": [
        "import numpy as np\n",
        "from sklearn.metrics import f1_score, confusion_matrix, ConfusionMatrixDisplay, accuracy_score\n",
        "import matplotlib.pyplot as plt\n",
        "\n",
        "# Assume a 3-class problem with synthetic data\n",
        "num_classes = 3\n",
        "num_samples = 1000\n",
        "\n",
        "# Generate synthetic ground truth labels\n",
        "np.random.seed(42)  # Set seed for reproducibility\n",
        "y_true = np.random.randint(0, num_classes, num_samples)  # True labels\n",
        "\n",
        "# Simulate LSTM and RNN predictions with predefined accuracy levels for stability\n",
        "# LSTM model accuracy level\n",
        "lstm_accuracy_level = 80  # Assuming LSTM accuracy is around 80%\n",
        "correct_lstm_preds = int(lstm_accuracy_level * num_samples / 100)\n",
        "incorrect_lstm_preds = num_samples - correct_lstm_preds\n",
        "\n",
        "# RNN model accuracy level\n",
        "rnn_accuracy_level = 73  # Assuming RNN accuracy is around 73%\n",
        "correct_rnn_preds = int(rnn_accuracy_level * num_samples / 100)\n",
        "incorrect_rnn_preds = num_samples - correct_rnn_preds\n",
        "\n",
        "# Generate LSTM predictions: simulate misclassifications\n",
        "y_pred_lstm = y_true.copy()\n",
        "misclassified_indices_lstm = np.random.choice(num_samples, incorrect_lstm_preds, replace=False)\n",
        "y_pred_lstm[misclassified_indices_lstm] = (y_pred_lstm[misclassified_indices_lstm] + 1) % num_classes  # Create some misclassifications\n",
        "\n",
        "# Generate RNN predictions: simulate misclassifications\n",
        "y_pred_rnn = y_true.copy()\n",
        "misclassified_indices_rnn = np.random.choice(num_samples, incorrect_rnn_preds, replace=False)\n",
        "y_pred_rnn[misclassified_indices_rnn] = (y_pred_rnn[misclassified_indices_rnn] + 2) % num_classes  # Create some misclassifications\n",
        "\n",
        "# Compute accuracy for both models\n",
        "accuracy_lstm = accuracy_score(y_true, y_pred_lstm)\n",
        "accuracy_rnn = accuracy_score(y_true, y_pred_rnn)\n",
        "\n",
        "# Compute F1 scores for both models\n",
        "f1_lstm = f1_score(y_true, y_pred_lstm, average='weighted')\n",
        "f1_rnn = f1_score(y_true, y_pred_rnn, average='weighted')\n",
        "\n",
        "# Average F1 scores (use the provided values)\n",
        "average_f1_lstm = 0.78076\n",
        "average_f1_rnn = 0.71794\n",
        "\n",
        "# Print F1 scores, accuracies, and average F1 scores\n",
        "print(f\"LSTM Model Accuracy: {accuracy_lstm:.2f}, F1 Score: {f1_lstm:.2f}\")\n",
        "print(f\"RNN Model Accuracy: {accuracy_rnn:.2f}, F1 Score: {f1_rnn:.2f}\")\n",
        "print(f\"\\nAverage F1 Score for LSTM: {average_f1_lstm:.2f}\")\n",
        "print(f\"Average F1 Score for RNN: {average_f1_rnn:.2f}\")\n",
        "\n",
        "# Compute and plot confusion matrix for LSTM model\n",
        "conf_matrix_lstm = confusion_matrix(y_true, y_pred_lstm)\n",
        "disp_lstm = ConfusionMatrixDisplay(confusion_matrix=conf_matrix_lstm)\n",
        "disp_lstm.plot(cmap=\"Blues\")\n",
        "plt.title(\"Confusion Matrix - LSTM Model\")\n",
        "plt.show()\n",
        "\n",
        "# Compute and plot confusion matrix for RNN model\n",
        "conf_matrix_rnn = confusion_matrix(y_true, y_pred_rnn)\n",
        "disp_rnn = ConfusionMatrixDisplay(confusion_matrix=conf_matrix_rnn)\n",
        "disp_rnn.plot(cmap=\"Oranges\")\n",
        "plt.title(\"Confusion Matrix - RNN Model\")\n",
        "plt.show()\n",
        "\n",
        "# Plot comparison of F1 scores for both models\n",
        "plt.figure(figsize=(6, 4))\n",
        "plt.bar(['LSTM', 'RNN'], [f1_lstm, f1_rnn], color=['blue', 'orange'])\n",
        "plt.xlabel('Model')\n",
        "plt.ylabel('F1 Score')\n",
        "plt.title('Model F1 Score Comparison')\n",
        "plt.ylim(0, 1)\n",
        "plt.show()\n"
      ],
      "metadata": {
        "colab": {
          "base_uri": "https://localhost:8080/",
          "height": 1000
        },
        "id": "yLSpuj7KZjUM",
        "outputId": "bb4e9861-06b4-48fa-9e2b-ec3a7d6fcd7d"
      },
      "execution_count": null,
      "outputs": [
        {
          "output_type": "stream",
          "name": "stdout",
          "text": [
            "LSTM Model Accuracy: 0.80, F1 Score: 0.80\n",
            "RNN Model Accuracy: 0.73, F1 Score: 0.73\n",
            "\n",
            "Average F1 Score for LSTM: 0.78\n",
            "Average F1 Score for RNN: 0.72\n"
          ]
        },
        {
          "output_type": "display_data",
          "data": {
            "text/plain": [
              "<Figure size 640x480 with 2 Axes>"
            ],
            "image/png": "[encoded data removed]"
          },
          "metadata": {}
        },
        {
          "output_type": "display_data",
          "data": {
            "text/plain": [
              "<Figure size 640x480 with 2 Axes>"
            ],
            "image/png": "[encoded data removed]"
          },
          "metadata": {}
        },
        {
          "output_type": "display_data",
          "data": {
            "text/plain": [
              "<Figure size 600x400 with 1 Axes>"
            ],
            "image/png": "[encoded data removed]"
          },
          "metadata": {}
        }
      ]
    }
  ]
}